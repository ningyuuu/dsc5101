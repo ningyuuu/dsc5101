{
 "cells": [
  {
   "cell_type": "markdown",
   "metadata": {},
   "source": [
    "# Project 1 - Ning Yu's Copy"
   ]
  },
  {
   "cell_type": "markdown",
   "metadata": {},
   "source": [
    "#### Applying libraries necessary"
   ]
  },
  {
   "cell_type": "code",
   "execution_count": 1,
   "metadata": {
    "collapsed": false
   },
   "outputs": [
    {
     "name": "stderr",
     "output_type": "stream",
     "text": [
      "Warning message:\n",
      "\"package 'ggplot2' was built under R version 3.3.3\"\n",
      "Attaching package: 'dplyr'\n",
      "\n",
      "The following objects are masked from 'package:stats':\n",
      "\n",
      "    filter, lag\n",
      "\n",
      "The following objects are masked from 'package:base':\n",
      "\n",
      "    intersect, setdiff, setequal, union\n",
      "\n"
     ]
    }
   ],
   "source": [
    "library(ggplot2)\n",
    "library(dplyr)"
   ]
  },
  {
   "cell_type": "markdown",
   "metadata": {},
   "source": [
    "#### Importing dataset into workbook"
   ]
  },
  {
   "cell_type": "code",
   "execution_count": 2,
   "metadata": {
    "collapsed": true
   },
   "outputs": [],
   "source": [
    "setwd(\"C:\\\\Users\\\\ningy\\\\Desktop\\\\Dropbox\\\\NUS_Modules\\\\DSC5101\\\\HW1\")\n",
    "data = read.csv(\"Project1Data.csv\")"
   ]
  },
  {
   "cell_type": "code",
   "execution_count": 3,
   "metadata": {
    "collapsed": false
   },
   "outputs": [
    {
     "data": {
      "text/html": [
       "<table>\n",
       "<thead><tr><th scope=col>maand</th><th scope=col>year</th><th scope=col>month</th><th scope=col>qu</th><th scope=col>cprice</th><th scope=col>tprice</th><th scope=col>oprice</th><th scope=col>incom</th><th scope=col>q1</th><th scope=col>q2</th><th scope=col>q3</th><th scope=col>q4</th><th scope=col>bprice</th><th scope=col>wprice</th></tr></thead>\n",
       "<tbody>\n",
       "\t<tr><td>Jan 1990</td><td>1990    </td><td>1       </td><td>0.55    </td><td>12.12   </td><td>18.6    </td><td>1       </td><td>1640.87 </td><td>1       </td><td>0       </td><td>0       </td><td>0       </td><td>3.47    </td><td>28.15   </td></tr>\n",
       "\t<tr><td>Feb 1990</td><td>1990    </td><td>2       </td><td>0.65    </td><td>12.12   </td><td>18.6    </td><td>1       </td><td>1538.60 </td><td>1       </td><td>0       </td><td>0       </td><td>0       </td><td>3.40    </td><td>28.15   </td></tr>\n",
       "\t<tr><td>Mar 1990</td><td>1990    </td><td>3       </td><td>0.66    </td><td>12.12   </td><td>18.6    </td><td>1       </td><td>1680.93 </td><td>1       </td><td>0       </td><td>0       </td><td>0       </td><td>3.26    </td><td>28.33   </td></tr>\n",
       "\t<tr><td>Apr 1990</td><td>1990    </td><td>4       </td><td>0.66    </td><td>12.12   </td><td>18.6    </td><td>1       </td><td>1656.20 </td><td>0       </td><td>1       </td><td>0       </td><td>0       </td><td>3.46    </td><td>28.49   </td></tr>\n",
       "\t<tr><td>May 1990</td><td>1990    </td><td>5       </td><td>0.64    </td><td>12.12   </td><td>18.6    </td><td>1       </td><td>1700.80 </td><td>0       </td><td>1       </td><td>0       </td><td>0       </td><td>3.47    </td><td>28.55   </td></tr>\n",
       "\t<tr><td>Jun 1990</td><td>1990    </td><td>6       </td><td>0.65    </td><td>12.12   </td><td>18.6    </td><td>1       </td><td>1732.67 </td><td>0       </td><td>1       </td><td>0       </td><td>0       </td><td>3.68    </td><td>28.55   </td></tr>\n",
       "</tbody>\n",
       "</table>\n"
      ],
      "text/latex": [
       "\\begin{tabular}{r|llllllllllllll}\n",
       " maand & year & month & qu & cprice & tprice & oprice & incom & q1 & q2 & q3 & q4 & bprice & wprice\\\\\n",
       "\\hline\n",
       "\t Jan 1990 & 1990     & 1        & 0.55     & 12.12    & 18.6     & 1        & 1640.87  & 1        & 0        & 0        & 0        & 3.47     & 28.15   \\\\\n",
       "\t Feb 1990 & 1990     & 2        & 0.65     & 12.12    & 18.6     & 1        & 1538.60  & 1        & 0        & 0        & 0        & 3.40     & 28.15   \\\\\n",
       "\t Mar 1990 & 1990     & 3        & 0.66     & 12.12    & 18.6     & 1        & 1680.93  & 1        & 0        & 0        & 0        & 3.26     & 28.33   \\\\\n",
       "\t Apr 1990 & 1990     & 4        & 0.66     & 12.12    & 18.6     & 1        & 1656.20  & 0        & 1        & 0        & 0        & 3.46     & 28.49   \\\\\n",
       "\t May 1990 & 1990     & 5        & 0.64     & 12.12    & 18.6     & 1        & 1700.80  & 0        & 1        & 0        & 0        & 3.47     & 28.55   \\\\\n",
       "\t Jun 1990 & 1990     & 6        & 0.65     & 12.12    & 18.6     & 1        & 1732.67  & 0        & 1        & 0        & 0        & 3.68     & 28.55   \\\\\n",
       "\\end{tabular}\n"
      ],
      "text/markdown": [
       "\n",
       "maand | year | month | qu | cprice | tprice | oprice | incom | q1 | q2 | q3 | q4 | bprice | wprice | \n",
       "|---|---|---|---|---|---|\n",
       "| Jan 1990 | 1990     | 1        | 0.55     | 12.12    | 18.6     | 1        | 1640.87  | 1        | 0        | 0        | 0        | 3.47     | 28.15    | \n",
       "| Feb 1990 | 1990     | 2        | 0.65     | 12.12    | 18.6     | 1        | 1538.60  | 1        | 0        | 0        | 0        | 3.40     | 28.15    | \n",
       "| Mar 1990 | 1990     | 3        | 0.66     | 12.12    | 18.6     | 1        | 1680.93  | 1        | 0        | 0        | 0        | 3.26     | 28.33    | \n",
       "| Apr 1990 | 1990     | 4        | 0.66     | 12.12    | 18.6     | 1        | 1656.20  | 0        | 1        | 0        | 0        | 3.46     | 28.49    | \n",
       "| May 1990 | 1990     | 5        | 0.64     | 12.12    | 18.6     | 1        | 1700.80  | 0        | 1        | 0        | 0        | 3.47     | 28.55    | \n",
       "| Jun 1990 | 1990     | 6        | 0.65     | 12.12    | 18.6     | 1        | 1732.67  | 0        | 1        | 0        | 0        | 3.68     | 28.55    | \n",
       "\n",
       "\n"
      ],
      "text/plain": [
       "  maand    year month qu   cprice tprice oprice incom   q1 q2 q3 q4 bprice\n",
       "1 Jan 1990 1990 1     0.55 12.12  18.6   1      1640.87 1  0  0  0  3.47  \n",
       "2 Feb 1990 1990 2     0.65 12.12  18.6   1      1538.60 1  0  0  0  3.40  \n",
       "3 Mar 1990 1990 3     0.66 12.12  18.6   1      1680.93 1  0  0  0  3.26  \n",
       "4 Apr 1990 1990 4     0.66 12.12  18.6   1      1656.20 0  1  0  0  3.46  \n",
       "5 May 1990 1990 5     0.64 12.12  18.6   1      1700.80 0  1  0  0  3.47  \n",
       "6 Jun 1990 1990 6     0.65 12.12  18.6   1      1732.67 0  1  0  0  3.68  \n",
       "  wprice\n",
       "1 28.15 \n",
       "2 28.15 \n",
       "3 28.33 \n",
       "4 28.49 \n",
       "5 28.55 \n",
       "6 28.55 "
      ]
     },
     "metadata": {},
     "output_type": "display_data"
    }
   ],
   "source": [
    "head(data)"
   ]
  },
  {
   "cell_type": "markdown",
   "metadata": {},
   "source": [
    "#### Using continuous variables for month/year"
   ]
  },
  {
   "cell_type": "code",
   "execution_count": 4,
   "metadata": {
    "collapsed": true
   },
   "outputs": [],
   "source": [
    "data$year <- as.factor(data$year)\n",
    "data$month <- as.factor(data$month)"
   ]
  },
  {
   "cell_type": "code",
   "execution_count": 5,
   "metadata": {
    "collapsed": false
   },
   "outputs": [
    {
     "data": {
      "text/plain": [
       "      maand      year        month          qu             cprice     \n",
       " Apr 1990: 1   1990:12   1      : 7   Min.   :0.5200   Min.   :12.00  \n",
       " Apr 1991: 1   1991:12   2      : 7   1st Qu.:0.6300   1st Qu.:12.12  \n",
       " Apr 1992: 1   1992:12   3      : 7   Median :0.6600   Median :12.12  \n",
       " Apr 1993: 1   1993:12   4      : 7   Mean   :0.6815   Mean   :14.03  \n",
       " Apr 1994: 1   1994:12   5      : 7   3rd Qu.:0.7400   3rd Qu.:15.66  \n",
       " Apr 1995: 1   1995:12   6      : 7   Max.   :1.0400   Max.   :20.00  \n",
       " (Other) :78   1996:12   (Other):42                                   \n",
       "     tprice          oprice          incom            q1             q2      \n",
       " Min.   :18.41   Min.   :1.000   Min.   :1539   Min.   :0.00   Min.   :0.00  \n",
       " 1st Qu.:18.60   1st Qu.:1.050   1st Qu.:1807   1st Qu.:0.00   1st Qu.:0.00  \n",
       " Median :19.16   Median :1.090   Median :1954   Median :0.00   Median :0.00  \n",
       " Mean   :19.19   Mean   :1.089   Mean   :1957   Mean   :0.25   Mean   :0.25  \n",
       " 3rd Qu.:19.72   3rd Qu.:1.140   3rd Qu.:2102   3rd Qu.:0.25   3rd Qu.:0.25  \n",
       " Max.   :20.27   Max.   :1.180   Max.   :2297   Max.   :1.00   Max.   :1.00  \n",
       "                                                                             \n",
       "       q3             q4           bprice          wprice     \n",
       " Min.   :0.00   Min.   :0.00   Min.   :2.440   Min.   :28.15  \n",
       " 1st Qu.:0.00   1st Qu.:0.00   1st Qu.:3.188   1st Qu.:30.16  \n",
       " Median :0.00   Median :0.00   Median :3.520   Median :32.53  \n",
       " Mean   :0.25   Mean   :0.25   Mean   :4.030   Mean   :31.79  \n",
       " 3rd Qu.:0.25   3rd Qu.:0.25   3rd Qu.:4.643   3rd Qu.:33.30  \n",
       " Max.   :1.00   Max.   :1.00   Max.   :7.180   Max.   :34.21  \n",
       "                                                              "
      ]
     },
     "metadata": {},
     "output_type": "display_data"
    }
   ],
   "source": [
    "summary(data)"
   ]
  },
  {
   "cell_type": "code",
   "execution_count": 6,
   "metadata": {
    "collapsed": true
   },
   "outputs": [],
   "source": [
    "data_numeric <- select(data,qu, cprice, tprice, oprice, incom, q1, q2, q3, q4, bprice, wprice)\n",
    "data_q1 <- filter(data, data$q1==1)\n",
    "data_q2 <- filter(data, data$q2==1)\n",
    "data_q3 <- filter(data, data$q3==1)\n",
    "data_q4 <- filter(data, data$q4==1)"
   ]
  },
  {
   "cell_type": "code",
   "execution_count": 7,
   "metadata": {
    "collapsed": false
   },
   "outputs": [
    {
     "data": {
      "image/png": "[encoded data removed]",
      "text/plain": [
       "plot without title"
      ]
     },
     "metadata": {},
     "output_type": "display_data"
    }
   ],
   "source": [
    "data_pairs = select(data,qu, cprice, tprice, oprice, incom, bprice, wprice)\n",
    "pairs(data_pairs, labels=colnames(data_pairs))"
   ]
  },
  {
   "cell_type": "markdown",
   "metadata": {},
   "source": [
    "It seems like there are some non-linear factors w.r.t. quantity and price: most factors are exponential w.r.t. cprice, except bprice. We can barely observe any real trends on qu."
   ]
  },
  {
   "cell_type": "markdown",
   "metadata": {},
   "source": [
    " <br><br><br><br><br><br>\n",
    " ### Attempting a one-stage linear regression first"
   ]
  },
  {
   "cell_type": "code",
   "execution_count": 8,
   "metadata": {
    "collapsed": false
   },
   "outputs": [
    {
     "data": {
      "text/plain": [
       "\n",
       "Call:\n",
       "lm(formula = data$qu ~ data$bprice + data$wprice + data$q1 + \n",
       "    data$q2 + data$q3)\n",
       "\n",
       "Residuals:\n",
       "      Min        1Q    Median        3Q       Max \n",
       "-0.116098 -0.048325 -0.008104  0.042402  0.303985 \n",
       "\n",
       "Coefficients:\n",
       "             Estimate Std. Error t value Pr(>|t|)    \n",
       "(Intercept)  0.601553   0.144749   4.156 8.24e-05 ***\n",
       "data$bprice -0.019626   0.007316  -2.683 0.008912 ** \n",
       "data$wprice  0.006917   0.004912   1.408 0.163032    \n",
       "data$q1     -0.089327   0.021853  -4.088 0.000105 ***\n",
       "data$q2     -0.068694   0.021814  -3.149 0.002322 ** \n",
       "data$q3     -0.085208   0.021754  -3.917 0.000191 ***\n",
       "---\n",
       "Signif. codes:  0 '***' 0.001 '**' 0.01 '*' 0.05 '.' 0.1 ' ' 1\n",
       "\n",
       "Residual standard error: 0.07045 on 78 degrees of freedom\n",
       "Multiple R-squared:  0.2644,\tAdjusted R-squared:  0.2173 \n",
       "F-statistic: 5.608 on 5 and 78 DF,  p-value: 0.0001819\n"
      ]
     },
     "metadata": {},
     "output_type": "display_data"
    }
   ],
   "source": [
    "supply_1 <- lm(data$qu ~ data$bprice + data$wprice)\n",
    "supply_seasonal_1 <- lm(data$qu ~ data$bprice + data$wprice + data$q1 + data$q2 + data$q3)\n",
    "summary(supply_seasonal_1)"
   ]
  },
  {
   "cell_type": "code",
   "execution_count": 9,
   "metadata": {
    "collapsed": false
   },
   "outputs": [
    {
     "data": {
      "text/plain": [
       "\n",
       "Call:\n",
       "lm(formula = data$qu ~ data$cprice + data$tprice + data$oprice + \n",
       "    data$incom + data$q1 + data$q2 + data$q3)\n",
       "\n",
       "Residuals:\n",
       "      Min        1Q    Median        3Q       Max \n",
       "-0.131410 -0.048288 -0.006498  0.035609  0.284310 \n",
       "\n",
       "Coefficients:\n",
       "              Estimate Std. Error t value Pr(>|t|)   \n",
       "(Intercept)  0.0330389  0.5652907   0.058  0.95355   \n",
       "data$cprice -0.0161481  0.0055404  -2.915  0.00468 **\n",
       "data$tprice  0.0635931  0.0428854   1.483  0.14225   \n",
       "data$oprice -0.6053566  0.5197137  -1.165  0.24775   \n",
       "data$incom   0.0001886  0.0001392   1.355  0.17947   \n",
       "data$q1     -0.0791262  0.0231699  -3.415  0.00103 **\n",
       "data$q2     -0.0684076  0.0216972  -3.153  0.00232 **\n",
       "data$q3     -0.0731116  0.0224155  -3.262  0.00166 **\n",
       "---\n",
       "Signif. codes:  0 '***' 0.001 '**' 0.01 '*' 0.05 '.' 0.1 ' ' 1\n",
       "\n",
       "Residual standard error: 0.06993 on 76 degrees of freedom\n",
       "Multiple R-squared:  0.2939,\tAdjusted R-squared:  0.2288 \n",
       "F-statistic: 4.518 on 7 and 76 DF,  p-value: 0.0002967\n"
      ]
     },
     "metadata": {},
     "output_type": "display_data"
    }
   ],
   "source": [
    "demand_1 <- lm(data$qu ~ data$cprice + data$tprice + data$oprice + data$incom)\n",
    "demand_seasonal_1 <- lm(data$qu ~ data$cprice + data$tprice + data$oprice + data$incom + data$q1 + data$q2 + data$q3)\n",
    "summary(demand_seasonal_1)"
   ]
  },
  {
   "cell_type": "code",
   "execution_count": 10,
   "metadata": {
    "collapsed": false
   },
   "outputs": [
    {
     "data": {
      "text/plain": [
       "\n",
       "Call:\n",
       "lm(formula = log(data$qu) ~ log(data$cprice) + log(data$tprice) + \n",
       "    log(data$oprice) + log(data$incom))\n",
       "\n",
       "Residuals:\n",
       "     Min       1Q   Median       3Q      Max \n",
       "-0.25153 -0.05540 -0.00518  0.06717  0.38679 \n",
       "\n",
       "Coefficients:\n",
       "                 Estimate Std. Error t value Pr(>|t|)   \n",
       "(Intercept)      -11.3062     4.3927  -2.574  0.01193 * \n",
       "log(data$cprice)  -0.3689     0.1306  -2.824  0.00599 **\n",
       "log(data$tprice)   1.8487     1.2515   1.477  0.14360   \n",
       "log(data$oprice)  -1.3778     0.7962  -1.731  0.08745 . \n",
       "log(data$incom)    0.8633     0.3644   2.369  0.02027 * \n",
       "---\n",
       "Signif. codes:  0 '***' 0.001 '**' 0.01 '*' 0.05 '.' 0.1 ' ' 1\n",
       "\n",
       "Residual standard error: 0.1056 on 79 degrees of freedom\n",
       "Multiple R-squared:  0.1485,\tAdjusted R-squared:  0.1054 \n",
       "F-statistic: 3.443 on 4 and 79 DF,  p-value: 0.01201\n"
      ]
     },
     "metadata": {},
     "output_type": "display_data"
    }
   ],
   "source": [
    "log_demand <- lm(log(data$qu) ~ log(data$cprice) + log(data$tprice) + log(data$oprice) + log(data$incom) + data$q1 + data$q2 + data$q3)\n",
    "log_demand_seasonal <- lm(log(data$qu) ~ log(data$cprice) + log(data$tprice) + log(data$oprice) + log(data$incom))\n",
    "\n",
    "summary(log_demand_seasonal)"
   ]
  },
  {
   "cell_type": "markdown",
   "metadata": {},
   "source": [
    " <br><br><br><br><br><br>\n",
    "### Trying a two-stage least squares model"
   ]
  },
  {
   "cell_type": "markdown",
   "metadata": {},
   "source": [
    "#### Stage 1: Modelling price using instrumental and control variables\n",
    "In this case, we identify instrumental variables as supply variables: wprice, bprice  \n",
    "And control variables as demand variables: incom, tprice, oprice"
   ]
  },
  {
   "cell_type": "markdown",
   "metadata": {},
   "source": [
    "First, we can do a simply collinearity check for these varibles we want to use."
   ]
  },
  {
   "cell_type": "code",
   "execution_count": 11,
   "metadata": {
    "collapsed": false
   },
   "outputs": [
    {
     "data": {
      "image/png": "[encoded data removed]",
      "text/plain": [
       "plot without title"
      ]
     },
     "metadata": {},
     "output_type": "display_data"
    }
   ],
   "source": [
    "pairs(select(data, tprice, oprice, incom, bprice, wprice))"
   ]
  },
  {
   "cell_type": "markdown",
   "metadata": {},
   "source": [
    "From the above visualization, we can see that wprice, income and oprice are highly collinear. We can use just one of those."
   ]
  },
  {
   "cell_type": "markdown",
   "metadata": {},
   "source": [
    "Trying some other combinations now, it seems like removing the control variables give the clearest prediction here."
   ]
  },
  {
   "cell_type": "code",
   "execution_count": 12,
   "metadata": {
    "collapsed": false
   },
   "outputs": [
    {
     "data": {
      "text/plain": [
       "\n",
       "Call:\n",
       "lm(formula = cprice ~ bprice + wprice, data = data)\n",
       "\n",
       "Residuals:\n",
       "     Min       1Q   Median       3Q      Max \n",
       "-1.36188 -0.27115 -0.04414  0.22895  1.37562 \n",
       "\n",
       "Coefficients:\n",
       "            Estimate Std. Error t value Pr(>|t|)    \n",
       "(Intercept) -3.09712    0.97345  -3.182  0.00208 ** \n",
       "bprice       1.75381    0.04969  35.295  < 2e-16 ***\n",
       "wprice       0.31640    0.03332   9.497  8.3e-15 ***\n",
       "---\n",
       "Signif. codes:  0 '***' 0.001 '**' 0.01 '*' 0.05 '.' 0.1 ' ' 1\n",
       "\n",
       "Residual standard error: 0.4796 on 81 degrees of freedom\n",
       "Multiple R-squared:  0.9656,\tAdjusted R-squared:  0.9648 \n",
       "F-statistic:  1138 on 2 and 81 DF,  p-value: < 2.2e-16\n"
      ]
     },
     "metadata": {},
     "output_type": "display_data"
    }
   ],
   "source": [
    "stage1_model = lm(cprice~bprice+wprice, data=data)\n",
    "summary(stage1_model)"
   ]
  },
  {
   "cell_type": "code",
   "execution_count": 13,
   "metadata": {
    "collapsed": false
   },
   "outputs": [
    {
     "data": {
      "image/png": "[encoded data removed]",
      "text/plain": [
       "plot without title"
      ]
     },
     "metadata": {},
     "output_type": "display_data"
    },
    {
     "data": {
      "image/png": "[encoded data removed]",
      "text/plain": [
       "plot without title"
      ]
     },
     "metadata": {},
     "output_type": "display_data"
    }
   ],
   "source": [
    "plot(data$year, data$bprice)\n",
    "plot(data$year, data$cprice)\n"
   ]
  },
  {
   "cell_type": "markdown",
   "metadata": {},
   "source": [
    "Although we might want to consider more powerful predictive techniques, an R-square of .97 is decent for now, we can now bring this model to the second stage, where I suspect we will need more effort, judging by the weak correlation between qu and cprice.  <br><br>\n",
    "### Stage 2: determining demand: quantity based on price\n",
    "As previously mentioned, our determinants of demand include incom, tprice and oprice. We will give these variables a try now"
   ]
  },
  {
   "cell_type": "code",
   "execution_count": 14,
   "metadata": {
    "collapsed": false
   },
   "outputs": [
    {
     "data": {
      "text/plain": [
       "\n",
       "Call:\n",
       "lm(formula = qu ~ incom + tprice + oprice + cprice_pred, data = data)\n",
       "\n",
       "Residuals:\n",
       "     Min       1Q   Median       3Q      Max \n",
       "-0.16035 -0.04300 -0.00607  0.05117  0.32415 \n",
       "\n",
       "Coefficients:\n",
       "              Estimate Std. Error t value Pr(>|t|)   \n",
       "(Intercept)  0.0780830  0.5915955   0.132  0.89533   \n",
       "incom        0.0003208  0.0001357   2.365  0.02049 * \n",
       "tprice       0.0649294  0.0447417   1.451  0.15068   \n",
       "oprice      -0.9566443  0.5259112  -1.819  0.07270 . \n",
       "cprice_pred -0.0162952  0.0059546  -2.737  0.00767 **\n",
       "---\n",
       "Signif. codes:  0 '***' 0.001 '**' 0.01 '*' 0.05 '.' 0.1 ' ' 1\n",
       "\n",
       "Residual standard error: 0.07547 on 79 degrees of freedom\n",
       "Multiple R-squared:  0.145,\tAdjusted R-squared:  0.1017 \n",
       "F-statistic:  3.35 on 4 and 79 DF,  p-value: 0.01382\n"
      ]
     },
     "metadata": {},
     "output_type": "display_data"
    }
   ],
   "source": [
    "data$cprice_pred = predict(stage1_model)\n",
    "stage2_model_demand = lm(qu~incom+tprice+oprice+cprice_pred, data=data)\n",
    "summary(stage2_model_demand)"
   ]
  },
  {
   "cell_type": "markdown",
   "metadata": {},
   "source": [
    "This model apparently sucks, so I'll try add a multiplicative model instead"
   ]
  },
  {
   "cell_type": "code",
   "execution_count": 15,
   "metadata": {
    "collapsed": false
   },
   "outputs": [
    {
     "data": {
      "text/plain": [
       "\n",
       "Call:\n",
       "lm(formula = ln_qu ~ ln_incom + ln_tprice + ln_oprice + ln_cprice_pred, \n",
       "    data = data)\n",
       "\n",
       "Residuals:\n",
       "     Min       1Q   Median       3Q      Max \n",
       "-0.25777 -0.05547 -0.01227  0.07175  0.38018 \n",
       "\n",
       "Coefficients:\n",
       "               Estimate Std. Error t value Pr(>|t|)   \n",
       "(Intercept)    -10.8452     4.2807  -2.533  0.01327 * \n",
       "ln_incom         0.8554     0.3630   2.357  0.02091 * \n",
       "ln_tprice        1.7172     1.2029   1.428  0.15736   \n",
       "ln_oprice       -1.2890     0.7921  -1.627  0.10765   \n",
       "ln_cprice_pred  -0.3764     0.1278  -2.946  0.00422 **\n",
       "---\n",
       "Signif. codes:  0 '***' 0.001 '**' 0.01 '*' 0.05 '.' 0.1 ' ' 1\n",
       "\n",
       "Residual standard error: 0.1052 on 79 degrees of freedom\n",
       "Multiple R-squared:  0.1553,\tAdjusted R-squared:  0.1125 \n",
       "F-statistic: 3.631 on 4 and 79 DF,  p-value: 0.00908\n"
      ]
     },
     "metadata": {},
     "output_type": "display_data"
    }
   ],
   "source": [
    "data$ln_qu = log(data$qu)\n",
    "data$ln_incom = log(data$incom)\n",
    "data$ln_tprice = log(data$tprice)\n",
    "data$ln_oprice = log(data$oprice)\n",
    "data$ln_cprice_pred = log(data$cprice_pred)\n",
    "stage2_model_demand_ln = lm(ln_qu~ln_incom+ln_tprice+ln_oprice+ln_cprice_pred, data=data)\n",
    "summary(stage2_model_demand_ln)"
   ]
  },
  {
   "cell_type": "markdown",
   "metadata": {},
   "source": [
    "Adding in seasonality to try..."
   ]
  },
  {
   "cell_type": "code",
   "execution_count": 16,
   "metadata": {
    "collapsed": false
   },
   "outputs": [
    {
     "data": {
      "text/plain": [
       "\n",
       "Call:\n",
       "lm(formula = ln_qu ~ ln_incom + ln_tprice + ln_oprice + ln_cprice_pred + \n",
       "    q1 + q2 + q3, data = data)\n",
       "\n",
       "Residuals:\n",
       "     Min       1Q   Median       3Q      Max \n",
       "-0.22080 -0.05926 -0.01079  0.04936  0.32701 \n",
       "\n",
       "Coefficients:\n",
       "               Estimate Std. Error t value Pr(>|t|)   \n",
       "(Intercept)    -6.92669    4.20387  -1.648  0.10354   \n",
       "ln_incom        0.44508    0.37477   1.188  0.23869   \n",
       "ln_tprice       1.43219    1.12382   1.274  0.20641   \n",
       "ln_oprice      -0.59079    0.78537  -0.752  0.45423   \n",
       "ln_cprice_pred -0.35815    0.11903  -3.009  0.00356 **\n",
       "q1             -0.10932    0.03250  -3.364  0.00121 **\n",
       "q2             -0.08684    0.03033  -2.863  0.00542 **\n",
       "q3             -0.10384    0.03140  -3.307  0.00144 **\n",
       "---\n",
       "Signif. codes:  0 '***' 0.001 '**' 0.01 '*' 0.05 '.' 0.1 ' ' 1\n",
       "\n",
       "Residual standard error: 0.09782 on 76 degrees of freedom\n",
       "Multiple R-squared:  0.2973,\tAdjusted R-squared:  0.2326 \n",
       "F-statistic: 4.594 on 7 and 76 DF,  p-value: 0.0002527\n"
      ]
     },
     "metadata": {},
     "output_type": "display_data"
    }
   ],
   "source": [
    "stage2_model_demand_ln = lm(ln_qu~ln_incom+ln_tprice+ln_oprice+ln_cprice_pred+q1+q2+q3, data=data)\n",
    "summary(stage2_model_demand_ln)"
   ]
  },
  {
   "cell_type": "markdown",
   "metadata": {},
   "source": [
    "### Fine tuning seasonality components\n",
    "\n",
    "Suspecting there could be variables that can be better fine tuned, so we can try doing some visualizations."
   ]
  },
  {
   "cell_type": "code",
   "execution_count": 17,
   "metadata": {
    "collapsed": false
   },
   "outputs": [
    {
     "data": {
      "image/png": "[encoded data removed]",
      "text/plain": [
       "plot without title"
      ]
     },
     "metadata": {},
     "output_type": "display_data"
    }
   ],
   "source": [
    "pairs(select(data, ln_tprice, ln_oprice, ln_incom, ln_cprice_pred))"
   ]
  },
  {
   "cell_type": "code",
   "execution_count": 18,
   "metadata": {
    "collapsed": false
   },
   "outputs": [
    {
     "data": {
      "image/png": "[encoded data removed]",
      "text/plain": [
       "plot without title"
      ]
     },
     "metadata": {},
     "output_type": "display_data"
    },
    {
     "data": {
      "image/png": "[encoded data removed]",
      "text/plain": [
       "plot without title"
      ]
     },
     "metadata": {},
     "output_type": "display_data"
    },
    {
     "data": {
      "image/png": "[encoded data removed]",
      "text/plain": [
       "plot without title"
      ]
     },
     "metadata": {},
     "output_type": "display_data"
    },
    {
     "data": {
      "image/png": "[encoded data removed]",
      "text/plain": [
       "plot without title"
      ]
     },
     "metadata": {},
     "output_type": "display_data"
    }
   ],
   "source": [
    "data_q1 = data[data$q1==1,]\n",
    "pairs(select(data_q1, ln_qu, ln_tprice, ln_oprice, ln_incom, ln_cprice_pred))\n",
    "\n",
    "data_q2 = data[data$q2==1,]\n",
    "pairs(select(data_q2, ln_qu, ln_tprice, ln_oprice, ln_incom, ln_cprice_pred))\n",
    "\n",
    "data_q3 = data[data$q3==1,]\n",
    "pairs(select(data_q3, ln_qu, ln_tprice, ln_oprice, ln_incom, ln_cprice_pred))\n",
    "\n",
    "data_q4 = data[data$q4==1,]\n",
    "pairs(select(data_q4, ln_qu, ln_tprice, ln_oprice, ln_incom, ln_cprice_pred))"
   ]
  },
  {
   "cell_type": "markdown",
   "metadata": {},
   "source": [
    "Just gonna plug in all the variables and try my luck... :("
   ]
  },
  {
   "cell_type": "code",
   "execution_count": 19,
   "metadata": {
    "collapsed": false
   },
   "outputs": [
    {
     "data": {
      "text/plain": [
       "\n",
       "Call:\n",
       "lm(formula = ln_qu ~ ln_incom + ln_tprice + ln_oprice + ln_cprice_pred + \n",
       "    q1 + q2 + q3 + q1 * ln_incom + q2 * ln_incom + q3 * ln_incom + \n",
       "    q1 * ln_tprice + q2 * ln_tprice + q3 * ln_tprice + q1 * ln_oprice + \n",
       "    q2 * ln_oprice + q3 * ln_oprice + q1 * ln_cprice_pred + q2 * \n",
       "    ln_cprice_pred + q3 * ln_cprice_pred, data = data)\n",
       "\n",
       "Residuals:\n",
       "      Min        1Q    Median        3Q       Max \n",
       "-0.208984 -0.053173 -0.002315  0.043237  0.269103 \n",
       "\n",
       "Coefficients:\n",
       "                   Estimate Std. Error t value Pr(>|t|)   \n",
       "(Intercept)       -18.78629    6.89991  -2.723  0.00833 **\n",
       "ln_incom            1.70685    0.69316   2.462  0.01650 * \n",
       "ln_tprice           2.23753    1.93693   1.155  0.25231   \n",
       "ln_oprice          -2.99680    1.32718  -2.258  0.02736 * \n",
       "ln_cprice_pred     -0.31756    0.18701  -1.698  0.09435 . \n",
       "q1                 11.35784   11.46465   0.991  0.32557   \n",
       "q2                 25.33637   14.22371   1.781  0.07961 . \n",
       "q3                 30.28552   12.28016   2.466  0.01634 * \n",
       "ln_incom:q1        -1.35708    0.90278  -1.503  0.13770   \n",
       "ln_incom:q2        -2.54394    1.44906  -1.756  0.08394 . \n",
       "ln_incom:q3        -3.29443    1.26266  -2.609  0.01129 * \n",
       "ln_tprice:q1       -0.41471    3.44651  -0.120  0.90460   \n",
       "ln_tprice:q2       -2.29901    3.10683  -0.740  0.46201   \n",
       "ln_tprice:q3       -2.05117    3.02355  -0.678  0.49997   \n",
       "ln_oprice:q1        2.02961    1.99219   1.019  0.31214   \n",
       "ln_oprice:q2        4.86206    2.79219   1.741  0.08644 . \n",
       "ln_oprice:q3        6.98475    2.40984   2.898  0.00513 **\n",
       "ln_cprice_pred:q1  -0.04556    0.33788  -0.135  0.89317   \n",
       "ln_cprice_pred:q2   0.10136    0.33112   0.306  0.76052   \n",
       "ln_cprice_pred:q3   0.01289    0.33245   0.039  0.96919   \n",
       "---\n",
       "Signif. codes:  0 '***' 0.001 '**' 0.01 '*' 0.05 '.' 0.1 ' ' 1\n",
       "\n",
       "Residual standard error: 0.09786 on 64 degrees of freedom\n",
       "Multiple R-squared:  0.4078,\tAdjusted R-squared:  0.2319 \n",
       "F-statistic: 2.319 on 19 and 64 DF,  p-value: 0.006522\n"
      ]
     },
     "metadata": {},
     "output_type": "display_data"
    }
   ],
   "source": [
    "stage2_model_demand_ln_seasonal = lm(ln_qu~ln_incom+ln_tprice+ln_oprice+ln_cprice_pred+q1+q2+q3\n",
    "                            +q1*ln_incom+q2*ln_incom+q3*ln_incom\n",
    "                            +q1*ln_tprice+q2*ln_tprice+q3*ln_tprice\n",
    "                            +q1*ln_oprice+q2*ln_oprice+q3*ln_oprice\n",
    "                            +q1*ln_cprice_pred+q2*ln_cprice_pred+q3*ln_cprice_pred\n",
    "                            , data=data)\n",
    "summary(stage2_model_demand_ln_seasonal)"
   ]
  },
  {
   "cell_type": "markdown",
   "metadata": {},
   "source": [
    "10% increase - we can do better by adding in polynomial variables first"
   ]
  },
  {
   "cell_type": "code",
   "execution_count": 20,
   "metadata": {
    "collapsed": false
   },
   "outputs": [
    {
     "data": {
      "text/plain": [
       "\n",
       "Call:\n",
       "lm(formula = ln_qu ~ ln_incom + ln_tprice + ln_oprice + ln_cprice_pred + \n",
       "    q1 + q2 + q3 + q1 * ln_incom + q2 * ln_incom + q3 * ln_incom + \n",
       "    q1 * ln_tprice + q2 * ln_tprice + q3 * ln_tprice + q1 * ln_oprice + \n",
       "    q2 * ln_oprice + q3 * ln_oprice + q1 * ln_cprice_pred + q2 * \n",
       "    ln_cprice_pred + q3 * ln_cprice_pred + ln_incom_sq + ln_tprice_sq + \n",
       "    ln_oprice_sq + ln_cprice_pred_sq, data = data)\n",
       "\n",
       "Residuals:\n",
       "     Min       1Q   Median       3Q      Max \n",
       "-0.18746 -0.05223 -0.00954  0.05017  0.22269 \n",
       "\n",
       "Coefficients:\n",
       "                    Estimate Std. Error t value Pr(>|t|)   \n",
       "(Intercept)       -458.27634  279.14522  -1.642  0.10588   \n",
       "ln_incom            71.43408   35.85470   1.992  0.05089 . \n",
       "ln_tprice          118.70434  166.57431   0.713  0.47884   \n",
       "ln_oprice           -5.38998    1.99990  -2.695  0.00911 **\n",
       "ln_cprice_pred       0.75342    4.13829   0.182  0.85615   \n",
       "q1                  18.37619   12.10954   1.517  0.13439   \n",
       "q2                  29.19406   14.94058   1.954  0.05537 . \n",
       "q3                  35.70640   12.89938   2.768  0.00749 **\n",
       "ln_incom_sq         -4.58396    2.35841  -1.944  0.05663 . \n",
       "ln_tprice_sq       -19.59547   28.02535  -0.699  0.48713   \n",
       "ln_oprice_sq        11.52669    9.15192   1.259  0.21273   \n",
       "ln_cprice_pred_sq   -0.20097    0.75127  -0.268  0.78999   \n",
       "ln_incom:q1         -2.18017    0.98728  -2.208  0.03106 * \n",
       "ln_incom:q2         -2.82950    1.45872  -1.940  0.05712 . \n",
       "ln_incom:q3         -3.68840    1.27705  -2.888  0.00538 **\n",
       "ln_tprice:q1        -0.74989    3.58457  -0.209  0.83500   \n",
       "ln_tprice:q2        -3.00378    3.51860  -0.854  0.39667   \n",
       "ln_tprice:q3        -2.99161    3.30564  -0.905  0.36908   \n",
       "ln_oprice:q1         2.74944    2.04035   1.348  0.18287   \n",
       "ln_oprice:q2         5.16425    2.80215   1.843  0.07028 . \n",
       "ln_oprice:q3         7.31054    2.41883   3.022  0.00368 **\n",
       "ln_cprice_pred:q1    0.01059    0.34981   0.030  0.97595   \n",
       "ln_cprice_pred:q2    0.24002    0.37741   0.636  0.52722   \n",
       "ln_cprice_pred:q3    0.13517    0.39199   0.345  0.73143   \n",
       "---\n",
       "Signif. codes:  0 '***' 0.001 '**' 0.01 '*' 0.05 '.' 0.1 ' ' 1\n",
       "\n",
       "Residual standard error: 0.09734 on 60 degrees of freedom\n",
       "Multiple R-squared:  0.4508,\tAdjusted R-squared:  0.2402 \n",
       "F-statistic: 2.141 on 23 and 60 DF,  p-value: 0.00972\n"
      ]
     },
     "metadata": {},
     "output_type": "display_data"
    }
   ],
   "source": [
    "data$ln_incom_sq = data$ln_incom^2\n",
    "data$ln_tprice_sq = data$ln_tprice^2\n",
    "data$ln_oprice_sq = data$ln_oprice^2\n",
    "data$ln_cprice_pred_sq = data$ln_cprice_pred^2\n",
    "stage2_model_demand_ln_poly = lm(ln_qu~ln_incom+ln_tprice+ln_oprice+ln_cprice_pred+q1+q2+q3\n",
    "                            +q1*ln_incom+q2*ln_incom+q3*ln_incom\n",
    "                            +q1*ln_tprice+q2*ln_tprice+q3*ln_tprice\n",
    "                            +q1*ln_oprice+q2*ln_oprice+q3*ln_oprice\n",
    "                            +q1*ln_cprice_pred+q2*ln_cprice_pred+q3*ln_cprice_pred\n",
    "                            +ln_incom_sq+ln_tprice_sq+ln_oprice_sq+ln_cprice_pred_sq\n",
    "                            , data=data)\n",
    "summary(stage2_model_demand_ln_poly)"
   ]
  },
  {
   "cell_type": "code",
   "execution_count": 21,
   "metadata": {
    "collapsed": false
   },
   "outputs": [
    {
     "name": "stdout",
     "output_type": "stream",
     "text": [
      "Start:  AIC=-371.63\n",
      "ln_qu ~ ln_incom + ln_tprice + ln_oprice + ln_cprice_pred + q1 + \n",
      "    q2 + q3 + q1 * ln_incom + q2 * ln_incom + q3 * ln_incom + \n",
      "    q1 * ln_tprice + q2 * ln_tprice + q3 * ln_tprice + q1 * ln_oprice + \n",
      "    q2 * ln_oprice + q3 * ln_oprice + q1 * ln_cprice_pred + q2 * \n",
      "    ln_cprice_pred + q3 * ln_cprice_pred + ln_incom_sq + ln_tprice_sq + \n",
      "    ln_oprice_sq + ln_cprice_pred_sq\n",
      "\n",
      "                    Df Sum of Sq     RSS     AIC\n",
      "- ln_cprice_pred:q1  1  0.000009 0.56847 -373.63\n",
      "- ln_tprice:q1       1  0.000415 0.56887 -373.57\n",
      "- ln_cprice_pred_sq  1  0.000678 0.56914 -373.53\n",
      "- ln_cprice_pred:q3  1  0.001127 0.56959 -373.47\n",
      "- ln_cprice_pred:q2  1  0.003832 0.57229 -373.07\n",
      "- ln_tprice_sq       1  0.004632 0.57309 -372.95\n",
      "- ln_tprice:q2       1  0.006905 0.57537 -372.62\n",
      "- ln_tprice:q3       1  0.007760 0.57622 -372.49\n",
      "<none>                           0.56846 -371.63\n",
      "- ln_oprice_sq       1  0.015029 0.58349 -371.44\n",
      "- ln_oprice:q1       1  0.017204 0.58566 -371.13\n",
      "- ln_oprice:q2       1  0.032180 0.60064 -369.01\n",
      "- ln_incom:q2        1  0.035647 0.60411 -368.52\n",
      "- ln_incom_sq        1  0.035792 0.60425 -368.50\n",
      "- ln_incom:q1        1  0.046201 0.61466 -367.07\n",
      "- ln_incom:q3        1  0.079034 0.64749 -362.70\n",
      "- ln_oprice:q3       1  0.086544 0.65500 -361.73\n",
      "\n",
      "Step:  AIC=-373.63\n",
      "ln_qu ~ ln_incom + ln_tprice + ln_oprice + ln_cprice_pred + q1 + \n",
      "    q2 + q3 + ln_incom_sq + ln_tprice_sq + ln_oprice_sq + ln_cprice_pred_sq + \n",
      "    ln_incom:q1 + ln_incom:q2 + ln_incom:q3 + ln_tprice:q1 + \n",
      "    ln_tprice:q2 + ln_tprice:q3 + ln_oprice:q1 + ln_oprice:q2 + \n",
      "    ln_oprice:q3 + ln_cprice_pred:q2 + ln_cprice_pred:q3\n",
      "\n",
      "                    Df Sum of Sq     RSS     AIC\n",
      "- ln_tprice:q1       1  0.000584 0.56905 -375.55\n",
      "- ln_cprice_pred_sq  1  0.000678 0.56915 -375.53\n",
      "- ln_cprice_pred:q3  1  0.001134 0.56960 -375.47\n",
      "- ln_cprice_pred:q2  1  0.004041 0.57251 -375.04\n",
      "- ln_tprice_sq       1  0.004678 0.57315 -374.94\n",
      "- ln_tprice:q2       1  0.006972 0.57544 -374.61\n",
      "- ln_tprice:q3       1  0.007820 0.57629 -374.48\n",
      "<none>                           0.56847 -373.63\n",
      "- ln_oprice_sq       1  0.015022 0.58349 -373.44\n",
      "- ln_oprice:q1       1  0.017215 0.58568 -373.13\n",
      "- ln_oprice:q2       1  0.032195 0.60066 -371.01\n",
      "- ln_incom:q2        1  0.035654 0.60412 -370.52\n",
      "- ln_incom_sq        1  0.035789 0.60426 -370.50\n",
      "- ln_incom:q1        1  0.046319 0.61479 -369.05\n",
      "- ln_incom:q3        1  0.079026 0.64749 -364.70\n",
      "- ln_oprice:q3       1  0.086536 0.65500 -363.73\n",
      "\n",
      "Step:  AIC=-375.55\n",
      "ln_qu ~ ln_incom + ln_tprice + ln_oprice + ln_cprice_pred + q1 + \n",
      "    q2 + q3 + ln_incom_sq + ln_tprice_sq + ln_oprice_sq + ln_cprice_pred_sq + \n",
      "    ln_incom:q1 + ln_incom:q2 + ln_incom:q3 + ln_tprice:q2 + \n",
      "    ln_tprice:q3 + ln_oprice:q1 + ln_oprice:q2 + ln_oprice:q3 + \n",
      "    ln_cprice_pred:q2 + ln_cprice_pred:q3\n",
      "\n",
      "                    Df Sum of Sq     RSS     AIC\n",
      "- ln_cprice_pred_sq  1  0.000815 0.56987 -377.43\n",
      "- ln_cprice_pred:q3  1  0.001110 0.57016 -377.38\n",
      "- ln_cprice_pred:q2  1  0.004020 0.57307 -376.95\n",
      "- ln_tprice_sq       1  0.004216 0.57327 -376.93\n",
      "- ln_tprice:q2       1  0.006406 0.57546 -376.61\n",
      "- ln_tprice:q3       1  0.007269 0.57632 -376.48\n",
      "<none>                           0.56905 -375.55\n",
      "- ln_oprice_sq       1  0.014534 0.58359 -375.43\n",
      "- ln_oprice:q1       1  0.022859 0.59191 -374.24\n",
      "- ln_oprice:q2       1  0.031644 0.60070 -373.00\n",
      "- ln_incom_sq        1  0.036114 0.60517 -372.38\n",
      "- ln_incom:q2        1  0.036212 0.60527 -372.36\n",
      "- ln_incom:q1        1  0.046573 0.61563 -370.94\n",
      "- ln_incom:q3        1  0.079323 0.64838 -366.58\n",
      "- ln_oprice:q3       1  0.087465 0.65652 -365.54\n",
      "\n",
      "Step:  AIC=-377.43\n",
      "ln_qu ~ ln_incom + ln_tprice + ln_oprice + ln_cprice_pred + q1 + \n",
      "    q2 + q3 + ln_incom_sq + ln_tprice_sq + ln_oprice_sq + ln_incom:q1 + \n",
      "    ln_incom:q2 + ln_incom:q3 + ln_tprice:q2 + ln_tprice:q3 + \n",
      "    ln_oprice:q1 + ln_oprice:q2 + ln_oprice:q3 + ln_cprice_pred:q2 + \n",
      "    ln_cprice_pred:q3\n",
      "\n",
      "                    Df Sum of Sq     RSS     AIC\n",
      "- ln_cprice_pred:q3  1  0.002697 0.57257 -379.03\n",
      "- ln_tprice_sq       1  0.004419 0.57429 -378.78\n",
      "- ln_cprice_pred:q2  1  0.005257 0.57513 -378.65\n",
      "- ln_tprice:q2       1  0.007995 0.57786 -378.26\n",
      "- ln_tprice:q3       1  0.009267 0.57914 -378.07\n",
      "<none>                           0.56987 -377.43\n",
      "- ln_oprice_sq       1  0.017320 0.58719 -376.91\n",
      "- ln_oprice:q1       1  0.022575 0.59244 -376.16\n",
      "- ln_oprice:q2       1  0.031210 0.60108 -374.95\n",
      "- ln_incom:q2        1  0.035477 0.60535 -374.35\n",
      "- ln_incom_sq        1  0.036224 0.60609 -374.25\n",
      "- ln_incom:q1        1  0.045950 0.61582 -372.91\n",
      "- ln_incom:q3        1  0.078546 0.64841 -368.58\n",
      "- ln_oprice:q3       1  0.086650 0.65652 -367.54\n",
      "\n",
      "Step:  AIC=-379.03\n",
      "ln_qu ~ ln_incom + ln_tprice + ln_oprice + ln_cprice_pred + q1 + \n",
      "    q2 + q3 + ln_incom_sq + ln_tprice_sq + ln_oprice_sq + ln_incom:q1 + \n",
      "    ln_incom:q2 + ln_incom:q3 + ln_tprice:q2 + ln_tprice:q3 + \n",
      "    ln_oprice:q1 + ln_oprice:q2 + ln_oprice:q3 + ln_cprice_pred:q2\n",
      "\n",
      "                    Df Sum of Sq     RSS     AIC\n",
      "- ln_tprice_sq       1  0.002772 0.57534 -380.62\n",
      "- ln_cprice_pred:q2  1  0.003263 0.57583 -380.55\n",
      "- ln_tprice:q2       1  0.006036 0.57860 -380.15\n",
      "- ln_tprice:q3       1  0.006812 0.57938 -380.04\n",
      "<none>                           0.57257 -379.03\n",
      "- ln_oprice_sq       1  0.017952 0.59052 -378.44\n",
      "- ln_oprice:q1       1  0.022684 0.59525 -377.77\n",
      "- ln_oprice:q2       1  0.030545 0.60311 -376.66\n",
      "- ln_incom:q2        1  0.035201 0.60777 -376.02\n",
      "- ln_incom_sq        1  0.035458 0.60802 -375.98\n",
      "- ln_incom:q1        1  0.045854 0.61842 -374.56\n",
      "- ln_incom:q3        1  0.075869 0.64843 -370.58\n",
      "- ln_oprice:q3       1  0.083970 0.65654 -369.53\n",
      "\n",
      "Step:  AIC=-380.62\n",
      "ln_qu ~ ln_incom + ln_tprice + ln_oprice + ln_cprice_pred + q1 + \n",
      "    q2 + q3 + ln_incom_sq + ln_oprice_sq + ln_incom:q1 + ln_incom:q2 + \n",
      "    ln_incom:q3 + ln_tprice:q2 + ln_tprice:q3 + ln_oprice:q1 + \n",
      "    ln_oprice:q2 + ln_oprice:q3 + ln_cprice_pred:q2\n",
      "\n",
      "                    Df Sum of Sq     RSS     AIC\n",
      "- ln_cprice_pred:q2  1  0.001843 0.57718 -382.36\n",
      "- ln_tprice:q2       1  0.004407 0.57974 -381.98\n",
      "- ln_tprice:q3       1  0.006796 0.58213 -381.64\n",
      "<none>                           0.57534 -380.62\n",
      "- ln_oprice_sq       1  0.015902 0.59124 -380.33\n",
      "- ln_oprice:q1       1  0.022899 0.59824 -379.35\n",
      "- ln_oprice:q2       1  0.030013 0.60535 -378.35\n",
      "- ln_incom:q2        1  0.034593 0.60993 -377.72\n",
      "- ln_incom_sq        1  0.036295 0.61163 -377.48\n",
      "- ln_incom:q1        1  0.045688 0.62103 -376.20\n",
      "- ln_incom:q3        1  0.074106 0.64944 -372.45\n",
      "- ln_oprice:q3       1  0.083503 0.65884 -371.24\n",
      "\n",
      "Step:  AIC=-382.36\n",
      "ln_qu ~ ln_incom + ln_tprice + ln_oprice + ln_cprice_pred + q1 + \n",
      "    q2 + q3 + ln_incom_sq + ln_oprice_sq + ln_incom:q1 + ln_incom:q2 + \n",
      "    ln_incom:q3 + ln_tprice:q2 + ln_tprice:q3 + ln_oprice:q1 + \n",
      "    ln_oprice:q2 + ln_oprice:q3\n",
      "\n",
      "                 Df Sum of Sq     RSS     AIC\n",
      "- ln_tprice:q2    1  0.002644 0.57982 -383.97\n",
      "- ln_tprice:q3    1  0.006487 0.58367 -383.42\n",
      "<none>                        0.57718 -382.36\n",
      "- ln_oprice_sq    1  0.017673 0.59485 -381.82\n",
      "- ln_oprice:q1    1  0.023100 0.60028 -381.06\n",
      "- ln_oprice:q2    1  0.029194 0.60637 -380.21\n",
      "- ln_incom:q2     1  0.033669 0.61085 -379.59\n",
      "- ln_incom_sq     1  0.036513 0.61369 -379.20\n",
      "- ln_incom:q1     1  0.046068 0.62325 -377.90\n",
      "- ln_cprice_pred  1  0.057623 0.63480 -376.36\n",
      "- ln_incom:q3     1  0.076372 0.65355 -373.92\n",
      "- ln_oprice:q3    1  0.085043 0.66222 -372.81\n",
      "\n",
      "Step:  AIC=-383.97\n",
      "ln_qu ~ ln_incom + ln_tprice + ln_oprice + ln_cprice_pred + q1 + \n",
      "    q2 + q3 + ln_incom_sq + ln_oprice_sq + ln_incom:q1 + ln_incom:q2 + \n",
      "    ln_incom:q3 + ln_tprice:q3 + ln_oprice:q1 + ln_oprice:q2 + \n",
      "    ln_oprice:q3\n",
      "\n",
      "                 Df Sum of Sq     RSS     AIC\n",
      "- ln_tprice:q3    1  0.004551 0.58438 -385.31\n",
      "<none>                        0.57982 -383.97\n",
      "- ln_oprice_sq    1  0.020289 0.60011 -383.08\n",
      "- ln_oprice:q1    1  0.023954 0.60378 -382.57\n",
      "- ln_oprice:q2    1  0.027553 0.60738 -382.07\n",
      "- ln_incom:q2     1  0.032502 0.61233 -381.39\n",
      "- ln_incom_sq     1  0.038187 0.61801 -380.61\n",
      "- ln_incom:q1     1  0.048234 0.62806 -379.26\n",
      "- ln_cprice_pred  1  0.057167 0.63699 -378.07\n",
      "- ln_incom:q3     1  0.078032 0.65786 -375.37\n",
      "- ln_oprice:q3    1  0.082653 0.66248 -374.78\n",
      "\n",
      "Step:  AIC=-385.31\n",
      "ln_qu ~ ln_incom + ln_tprice + ln_oprice + ln_cprice_pred + q1 + \n",
      "    q2 + q3 + ln_incom_sq + ln_oprice_sq + ln_incom:q1 + ln_incom:q2 + \n",
      "    ln_incom:q3 + ln_oprice:q1 + ln_oprice:q2 + ln_oprice:q3\n",
      "\n",
      "                 Df Sum of Sq     RSS     AIC\n",
      "- ln_tprice       1  0.008385 0.59276 -386.12\n",
      "<none>                        0.58438 -385.31\n",
      "- ln_oprice_sq    1  0.020961 0.60534 -384.35\n",
      "- ln_oprice:q1    1  0.024319 0.60869 -383.89\n",
      "- ln_oprice:q2    1  0.027884 0.61226 -383.40\n",
      "- ln_incom:q2     1  0.033540 0.61791 -382.63\n",
      "- ln_incom_sq     1  0.037306 0.62168 -382.12\n",
      "- ln_incom:q1     1  0.049101 0.63348 -380.54\n",
      "- ln_cprice_pred  1  0.057776 0.64215 -379.39\n",
      "- ln_oprice:q3    1  0.078726 0.66310 -376.70\n",
      "- ln_incom:q3     1  0.084324 0.66870 -375.99\n",
      "\n",
      "Step:  AIC=-386.12\n",
      "ln_qu ~ ln_incom + ln_oprice + ln_cprice_pred + q1 + q2 + q3 + \n",
      "    ln_incom_sq + ln_oprice_sq + ln_incom:q1 + ln_incom:q2 + \n",
      "    ln_incom:q3 + ln_oprice:q1 + ln_oprice:q2 + ln_oprice:q3\n",
      "\n",
      "                 Df Sum of Sq     RSS     AIC\n",
      "<none>                        0.59276 -386.12\n",
      "- ln_oprice_sq    1  0.022408 0.61517 -385.00\n",
      "- ln_oprice:q1    1  0.025514 0.61827 -384.58\n",
      "- ln_oprice:q2    1  0.029960 0.62272 -383.98\n",
      "- ln_incom:q2     1  0.037474 0.63023 -382.97\n",
      "- ln_incom_sq     1  0.037573 0.63033 -382.96\n",
      "- ln_cprice_pred  1  0.051191 0.64395 -381.16\n",
      "- ln_incom:q1     1  0.052885 0.64564 -380.94\n",
      "- ln_oprice:q3    1  0.080218 0.67298 -377.46\n",
      "- ln_incom:q3     1  0.087495 0.68026 -376.55\n"
     ]
    }
   ],
   "source": [
    "stage2_model_demand_ln_poly_step = step(lm(ln_qu~ln_incom+ln_tprice+ln_oprice+ln_cprice_pred+q1+q2+q3\n",
    "                            +q1*ln_incom+q2*ln_incom+q3*ln_incom\n",
    "                            +q1*ln_tprice+q2*ln_tprice+q3*ln_tprice\n",
    "                            +q1*ln_oprice+q2*ln_oprice+q3*ln_oprice\n",
    "                            +q1*ln_cprice_pred+q2*ln_cprice_pred+q3*ln_cprice_pred\n",
    "                            +ln_incom_sq+ln_tprice_sq+ln_oprice_sq+ln_cprice_pred_sq\n",
    "                            , data=data))"
   ]
  },
  {
   "cell_type": "code",
   "execution_count": 22,
   "metadata": {
    "collapsed": false
   },
   "outputs": [
    {
     "data": {
      "text/plain": [
       "\n",
       "Call:\n",
       "lm(formula = ln_qu ~ ln_incom + ln_oprice + ln_cprice_pred + \n",
       "    q1 + q2 + q3 + ln_incom_sq + ln_oprice_sq + ln_incom:q1 + \n",
       "    ln_incom:q2 + ln_incom:q3 + ln_oprice:q1 + ln_oprice:q2 + \n",
       "    ln_oprice:q3, data = data)\n",
       "\n",
       "Residuals:\n",
       "      Min        1Q    Median        3Q       Max \n",
       "-0.214018 -0.050774 -0.007942  0.055099  0.235928 \n",
       "\n",
       "Coefficients:\n",
       "                Estimate Std. Error t value Pr(>|t|)   \n",
       "(Intercept)    -283.0575   129.0045  -2.194  0.03159 * \n",
       "ln_incom         72.8204    33.9477   2.145  0.03547 * \n",
       "ln_oprice        -4.5121     1.6742  -2.695  0.00883 **\n",
       "ln_cprice_pred   -0.2447     0.1002  -2.441  0.01721 * \n",
       "q1               17.1747     6.9334   2.477  0.01570 * \n",
       "q2               21.1731    10.1621   2.084  0.04091 * \n",
       "q3               27.7618     8.7277   3.181  0.00220 **\n",
       "ln_incom_sq      -4.6700     2.2330  -2.091  0.04018 * \n",
       "ln_oprice_sq     12.9765     8.0347   1.615  0.11086   \n",
       "ln_incom:q1      -2.3075     0.9300  -2.481  0.01554 * \n",
       "ln_incom:q2      -2.8485     1.3638  -2.089  0.04044 * \n",
       "ln_incom:q3      -3.7475     1.1743  -3.191  0.00213 **\n",
       "ln_oprice:q1      2.5488     1.4789   1.723  0.08930 . \n",
       "ln_oprice:q2      4.3209     2.3138   1.867  0.06608 . \n",
       "ln_oprice:q3      6.3147     2.0665   3.056  0.00319 **\n",
       "---\n",
       "Signif. codes:  0 '***' 0.001 '**' 0.01 '*' 0.05 '.' 0.1 ' ' 1\n",
       "\n",
       "Residual standard error: 0.09269 on 69 degrees of freedom\n",
       "Multiple R-squared:  0.4273,\tAdjusted R-squared:  0.3111 \n",
       "F-statistic: 3.677 on 14 and 69 DF,  p-value: 0.0001437\n"
      ]
     },
     "metadata": {},
     "output_type": "display_data"
    }
   ],
   "source": [
    "summary(stage2_model_demand_ln_poly_step)"
   ]
  },
  {
   "cell_type": "code",
   "execution_count": 28,
   "metadata": {
    "collapsed": false
   },
   "outputs": [
    {
     "data": {
      "text/plain": [
       "\n",
       "Call:\n",
       "lm(formula = ln_qu ~ ln_incom + ln_tprice + ln_oprice + ln_cprice_pred + \n",
       "    q1 + q2 + q3 + q1 * ln_incom + q2 * ln_incom + q3 * ln_incom + \n",
       "    q1 * ln_tprice + q2 * ln_tprice + q3 * ln_tprice + q1 * ln_oprice + \n",
       "    q2 * ln_oprice + q3 * ln_oprice + q1 * ln_cprice_pred + q2 * \n",
       "    ln_cprice_pred + q3 * ln_cprice_pred + ln_incom_sq + ln_tprice_sq + \n",
       "    ln_oprice_sq + ln_cprice_pred_sq + oprice * ln_incom + oprice * \n",
       "    ln_tprice + oprice * cprice_pred + q1 * ln_incom_sq + q2 * \n",
       "    ln_incom_sq + q3 * ln_incom_sq + q1 * ln_tprice_sq + q2 * \n",
       "    ln_tprice_sq + q3 * ln_tprice_sq + q1 * ln_oprice_sq + q2 * \n",
       "    ln_oprice_sq + q3 * ln_oprice_sq + q1 * ln_cprice_pred_sq + \n",
       "    q2 * ln_cprice_pred_sq + q3 * ln_cprice_pred_sq, data = data)\n",
       "\n",
       "Residuals:\n",
       "     Min       1Q   Median       3Q      Max \n",
       "-0.11922 -0.04211 -0.01204  0.04489  0.17815 \n",
       "\n",
       "Coefficients:\n",
       "                       Estimate Std. Error t value Pr(>|t|)  \n",
       "(Intercept)           1632.9740  1532.7103   1.065   0.2926  \n",
       "ln_incom               189.0230   197.9890   0.955   0.3451  \n",
       "ln_tprice             -496.4118   608.2795  -0.816   0.4189  \n",
       "ln_oprice             1744.9159  1307.3756   1.335   0.1890  \n",
       "ln_cprice_pred         126.9889    74.3819   1.707   0.0950 .\n",
       "q1                     -64.3515   846.0040  -0.076   0.9397  \n",
       "q2                      68.4718  1110.3273   0.062   0.9511  \n",
       "q3                   -1556.8345  1009.2365  -1.543   0.1303  \n",
       "ln_incom_sq            -13.0774    15.5915  -0.839   0.4062  \n",
       "ln_tprice_sq            90.7984   119.6672   0.759   0.4521  \n",
       "ln_oprice_sq           935.8782   685.7284   1.365   0.1794  \n",
       "ln_cprice_pred_sq      -36.7565    21.8305  -1.684   0.0995 .\n",
       "oprice               -1754.6938  1519.4692  -1.155   0.2545  \n",
       "cprice_pred              1.9542     2.2078   0.885   0.3810  \n",
       "ln_incom:q1           -167.5895   109.2812  -1.534   0.1325  \n",
       "ln_incom:q2            -80.8706   147.3567  -0.549   0.5860  \n",
       "ln_incom:q3             28.2010   153.6360   0.184   0.8552  \n",
       "ln_tprice:q1           484.1971   529.0852   0.915   0.3652  \n",
       "ln_tprice:q2           140.9325   630.7591   0.223   0.8243  \n",
       "ln_tprice:q3           992.0246   570.4126   1.739   0.0892 .\n",
       "ln_oprice:q1             7.9836     4.9165   1.624   0.1117  \n",
       "ln_oprice:q2             7.3833     6.3940   1.155   0.2546  \n",
       "ln_oprice:q3             5.6703     5.8626   0.967   0.3389  \n",
       "ln_cprice_pred:q1      -17.0641    13.8818  -1.229   0.2257  \n",
       "ln_cprice_pred:q2       30.0748    15.7379   1.911   0.0627 .\n",
       "ln_cprice_pred:q3        3.8894    11.6541   0.334   0.7402  \n",
       "ln_incom:oprice         10.5635    39.7338   0.266   0.7916  \n",
       "ln_tprice:oprice       -36.3055   100.9082  -0.360   0.7208  \n",
       "oprice:cprice_pred       2.4664     1.1347   2.174   0.0353 *\n",
       "q1:ln_incom_sq          10.9502     7.1774   1.526   0.1344  \n",
       "q2:ln_incom_sq           5.1096     9.6968   0.527   0.6009  \n",
       "q3:ln_incom_sq          -2.1744    10.1181  -0.215   0.8309  \n",
       "q1:ln_tprice_sq        -80.3569    89.4575  -0.898   0.3740  \n",
       "q2:ln_tprice_sq        -23.7139   106.9149  -0.222   0.8255  \n",
       "q3:ln_tprice_sq       -168.4052    96.7356  -1.741   0.0889 .\n",
       "q1:ln_oprice_sq        -47.7827    27.5856  -1.732   0.0904 .\n",
       "q2:ln_oprice_sq        -31.2299    31.2852  -0.998   0.3238  \n",
       "q3:ln_oprice_sq         -0.1244    30.0670  -0.004   0.9967  \n",
       "q1:ln_cprice_pred_sq     3.0173     2.4849   1.214   0.2313  \n",
       "q2:ln_cprice_pred_sq    -5.4595     2.9212  -1.869   0.0685 .\n",
       "q3:ln_cprice_pred_sq    -0.5106     2.2262  -0.229   0.8197  \n",
       "---\n",
       "Signif. codes:  0 '***' 0.001 '**' 0.01 '*' 0.05 '.' 0.1 ' ' 1\n",
       "\n",
       "Residual standard error: 0.09203 on 43 degrees of freedom\n",
       "Multiple R-squared:  0.6481,\tAdjusted R-squared:  0.3208 \n",
       "F-statistic:  1.98 on 40 and 43 DF,  p-value: 0.01472\n"
      ]
     },
     "metadata": {},
     "output_type": "display_data"
    }
   ],
   "source": [
    "stage2_model_demand_ln_poly_inf = (lm(ln_qu~ln_incom+ln_tprice+ln_oprice+ln_cprice_pred+q1+q2+q3\n",
    "                            +q1*ln_incom+q2*ln_incom+q3*ln_incom\n",
    "                            +q1*ln_tprice+q2*ln_tprice+q3*ln_tprice\n",
    "                            +q1*ln_oprice+q2*ln_oprice+q3*ln_oprice\n",
    "                            +q1*ln_cprice_pred+q2*ln_cprice_pred+q3*ln_cprice_pred\n",
    "                            +ln_incom_sq+ln_tprice_sq+ln_oprice_sq+ln_cprice_pred_sq\n",
    "                            +oprice*ln_incom+oprice*ln_tprice+oprice*cprice_pred\n",
    "                            +q1*ln_incom_sq+q2*ln_incom_sq+q3*ln_incom_sq\n",
    "                            +q1*ln_tprice_sq+q2*ln_tprice_sq+q3*ln_tprice_sq\n",
    "                            +q1*ln_oprice_sq+q2*ln_oprice_sq+q3*ln_oprice_sq\n",
    "                            +q1*ln_cprice_pred_sq+q2*ln_cprice_pred_sq+q3*ln_cprice_pred_sq\n",
    "                            , data=data))\n",
    "summary(stage2_model_demand_ln_poly_inf)"
   ]
  },
  {
   "cell_type": "code",
   "execution_count": 29,
   "metadata": {
    "collapsed": false
   },
   "outputs": [
    {
     "name": "stdout",
     "output_type": "stream",
     "text": [
      "Start:  AIC=-375.04\n",
      "ln_qu ~ ln_incom + ln_tprice + ln_oprice + ln_cprice_pred + q1 + \n",
      "    q2 + q3 + q1 * ln_incom + q2 * ln_incom + q3 * ln_incom + \n",
      "    q1 * ln_tprice + q2 * ln_tprice + q3 * ln_tprice + q1 * ln_oprice + \n",
      "    q2 * ln_oprice + q3 * ln_oprice + q1 * ln_cprice_pred + q2 * \n",
      "    ln_cprice_pred + q3 * ln_cprice_pred + ln_incom_sq + ln_tprice_sq + \n",
      "    ln_oprice_sq + ln_cprice_pred_sq + oprice * ln_incom + oprice * \n",
      "    ln_tprice + oprice * cprice_pred + q1 * ln_incom_sq + q2 * \n",
      "    ln_incom_sq + q3 * ln_incom_sq + q1 * ln_tprice_sq + q2 * \n",
      "    ln_tprice_sq + q3 * ln_tprice_sq + q1 * ln_oprice_sq + q2 * \n",
      "    ln_oprice_sq + q3 * ln_oprice_sq + q1 * ln_cprice_pred_sq + \n",
      "    q2 * ln_cprice_pred_sq + q3 * ln_cprice_pred_sq\n",
      "\n",
      "                       Df Sum of Sq     RSS     AIC\n",
      "- q3:ln_oprice_sq       1  0.000000 0.36419 -377.04\n",
      "- ln_incom:q3           1  0.000285 0.36447 -376.97\n",
      "- q3:ln_incom_sq        1  0.000391 0.36458 -376.95\n",
      "- q2:ln_tprice_sq       1  0.000417 0.36460 -376.94\n",
      "- ln_tprice:q2          1  0.000423 0.36461 -376.94\n",
      "- q3:ln_cprice_pred_sq  1  0.000446 0.36463 -376.93\n",
      "- ln_incom:oprice       1  0.000599 0.36478 -376.90\n",
      "- ln_cprice_pred:q3     1  0.000943 0.36513 -376.82\n",
      "- ln_tprice:oprice      1  0.001096 0.36528 -376.78\n",
      "- q2:ln_incom_sq        1  0.002352 0.36654 -376.50\n",
      "- ln_incom:q2           1  0.002551 0.36674 -376.45\n",
      "- q1:ln_tprice_sq       1  0.006834 0.37102 -375.47\n",
      "- ln_tprice:q1          1  0.007093 0.37128 -375.42\n",
      "- ln_oprice:q3          1  0.007923 0.37211 -375.23\n",
      "- q2:ln_oprice_sq       1  0.008440 0.37263 -375.11\n",
      "<none>                              0.36419 -375.04\n",
      "- ln_oprice:q2          1  0.011293 0.37548 -374.47\n",
      "- q1:ln_cprice_pred_sq  1  0.012488 0.37667 -374.20\n",
      "- ln_cprice_pred:q1     1  0.012798 0.37698 -374.14\n",
      "- q1:ln_incom_sq        1  0.019713 0.38390 -372.61\n",
      "- ln_incom:q1           1  0.019919 0.38410 -372.56\n",
      "- ln_oprice:q1          1  0.022332 0.38652 -372.04\n",
      "- q1:ln_oprice_sq       1  0.025412 0.38960 -371.37\n",
      "- ln_tprice:q3          1  0.025617 0.38980 -371.33\n",
      "- q3:ln_tprice_sq       1  0.025668 0.38985 -371.32\n",
      "- q2:ln_cprice_pred_sq  1  0.029582 0.39377 -370.48\n",
      "- ln_cprice_pred:q2     1  0.030929 0.39511 -370.19\n",
      "- oprice:cprice_pred    1  0.040015 0.40420 -368.28\n",
      "\n",
      "Step:  AIC=-377.04\n",
      "ln_qu ~ ln_incom + ln_tprice + ln_oprice + ln_cprice_pred + q1 + \n",
      "    q2 + q3 + ln_incom_sq + ln_tprice_sq + ln_oprice_sq + ln_cprice_pred_sq + \n",
      "    oprice + cprice_pred + ln_incom:q1 + ln_incom:q2 + ln_incom:q3 + \n",
      "    ln_tprice:q1 + ln_tprice:q2 + ln_tprice:q3 + ln_oprice:q1 + \n",
      "    ln_oprice:q2 + ln_oprice:q3 + ln_cprice_pred:q1 + ln_cprice_pred:q2 + \n",
      "    ln_cprice_pred:q3 + ln_incom:oprice + ln_tprice:oprice + \n",
      "    oprice:cprice_pred + q1:ln_incom_sq + q2:ln_incom_sq + q3:ln_incom_sq + \n",
      "    q1:ln_tprice_sq + q2:ln_tprice_sq + q3:ln_tprice_sq + q1:ln_oprice_sq + \n",
      "    q2:ln_oprice_sq + q1:ln_cprice_pred_sq + q2:ln_cprice_pred_sq + \n",
      "    q3:ln_cprice_pred_sq\n",
      "\n",
      "                       Df Sum of Sq     RSS     AIC\n",
      "- q2:ln_tprice_sq       1  0.000417 0.36460 -378.94\n",
      "- ln_tprice:q2          1  0.000423 0.36461 -378.94\n",
      "- q3:ln_cprice_pred_sq  1  0.000447 0.36463 -378.93\n",
      "- ln_incom:oprice       1  0.000623 0.36481 -378.89\n",
      "- ln_incom:q3           1  0.000944 0.36513 -378.82\n",
      "- ln_cprice_pred:q3     1  0.000948 0.36513 -378.82\n",
      "- ln_tprice:oprice      1  0.001098 0.36528 -378.78\n",
      "- q3:ln_incom_sq        1  0.001289 0.36547 -378.74\n",
      "- q2:ln_incom_sq        1  0.002552 0.36674 -378.45\n",
      "- ln_incom:q2           1  0.002770 0.36696 -378.40\n",
      "- q1:ln_tprice_sq       1  0.006835 0.37102 -377.47\n",
      "- ln_tprice:q1          1  0.007094 0.37128 -377.42\n",
      "<none>                              0.36419 -377.04\n",
      "- q2:ln_oprice_sq       1  0.009106 0.37329 -376.96\n",
      "- ln_oprice:q2          1  0.011902 0.37609 -376.33\n",
      "- q1:ln_cprice_pred_sq  1  0.012613 0.37680 -376.18\n",
      "- ln_cprice_pred:q1     1  0.012930 0.37712 -376.11\n",
      "- q1:ln_incom_sq        1  0.023009 0.38720 -373.89\n",
      "- ln_incom:q1           1  0.023289 0.38747 -373.83\n",
      "- ln_tprice:q3          1  0.025628 0.38981 -373.32\n",
      "- q3:ln_tprice_sq       1  0.025679 0.38987 -373.31\n",
      "- ln_oprice:q1          1  0.025685 0.38987 -373.31\n",
      "- q1:ln_oprice_sq       1  0.027951 0.39214 -372.82\n",
      "- q2:ln_cprice_pred_sq  1  0.029609 0.39380 -372.47\n",
      "- ln_oprice:q3          1  0.030026 0.39421 -372.38\n",
      "- ln_cprice_pred:q2     1  0.030962 0.39515 -372.18\n",
      "- oprice:cprice_pred    1  0.040049 0.40424 -370.27\n",
      "\n",
      "Step:  AIC=-378.94\n",
      "ln_qu ~ ln_incom + ln_tprice + ln_oprice + ln_cprice_pred + q1 + \n",
      "    q2 + q3 + ln_incom_sq + ln_tprice_sq + ln_oprice_sq + ln_cprice_pred_sq + \n",
      "    oprice + cprice_pred + ln_incom:q1 + ln_incom:q2 + ln_incom:q3 + \n",
      "    ln_tprice:q1 + ln_tprice:q2 + ln_tprice:q3 + ln_oprice:q1 + \n",
      "    ln_oprice:q2 + ln_oprice:q3 + ln_cprice_pred:q1 + ln_cprice_pred:q2 + \n",
      "    ln_cprice_pred:q3 + ln_incom:oprice + ln_tprice:oprice + \n",
      "    oprice:cprice_pred + q1:ln_incom_sq + q2:ln_incom_sq + q3:ln_incom_sq + \n",
      "    q1:ln_tprice_sq + q3:ln_tprice_sq + q1:ln_oprice_sq + q2:ln_oprice_sq + \n",
      "    q1:ln_cprice_pred_sq + q2:ln_cprice_pred_sq + q3:ln_cprice_pred_sq\n",
      "\n",
      "                       Df Sum of Sq     RSS     AIC\n",
      "- ln_tprice:q2          1  0.000350 0.36495 -380.86\n",
      "- q3:ln_cprice_pred_sq  1  0.000457 0.36506 -380.83\n",
      "- ln_incom:oprice       1  0.000661 0.36526 -380.79\n",
      "- ln_cprice_pred:q3     1  0.000968 0.36557 -380.72\n",
      "- ln_incom:q3           1  0.001179 0.36578 -380.67\n",
      "- ln_tprice:oprice      1  0.001225 0.36583 -380.66\n",
      "- q3:ln_incom_sq        1  0.001569 0.36617 -380.58\n",
      "- q2:ln_incom_sq        1  0.002702 0.36730 -380.32\n",
      "- ln_incom:q2           1  0.002928 0.36753 -380.27\n",
      "- q1:ln_tprice_sq       1  0.006434 0.37104 -379.47\n",
      "- ln_tprice:q1          1  0.006691 0.37129 -379.41\n",
      "<none>                              0.36460 -378.94\n",
      "- q2:ln_oprice_sq       1  0.011609 0.37621 -378.31\n",
      "- q1:ln_cprice_pred_sq  1  0.012540 0.37714 -378.10\n",
      "- ln_cprice_pred:q1     1  0.012851 0.37745 -378.03\n",
      "- ln_oprice:q2          1  0.015214 0.37982 -377.51\n",
      "- q1:ln_incom_sq        1  0.022619 0.38722 -375.88\n",
      "- ln_incom:q1           1  0.022898 0.38750 -375.82\n",
      "- ln_tprice:q3          1  0.025223 0.38983 -375.32\n",
      "- q3:ln_tprice_sq       1  0.025273 0.38988 -375.31\n",
      "- ln_oprice:q1          1  0.026199 0.39080 -375.11\n",
      "- q1:ln_oprice_sq       1  0.027957 0.39256 -374.73\n",
      "- ln_oprice:q3          1  0.030666 0.39527 -374.16\n",
      "- q2:ln_cprice_pred_sq  1  0.035762 0.40036 -373.08\n",
      "- ln_cprice_pred:q2     1  0.036501 0.40110 -372.93\n",
      "- oprice:cprice_pred    1  0.042454 0.40706 -371.69\n",
      "\n",
      "Step:  AIC=-380.86\n",
      "ln_qu ~ ln_incom + ln_tprice + ln_oprice + ln_cprice_pred + q1 + \n",
      "    q2 + q3 + ln_incom_sq + ln_tprice_sq + ln_oprice_sq + ln_cprice_pred_sq + \n",
      "    oprice + cprice_pred + ln_incom:q1 + ln_incom:q2 + ln_incom:q3 + \n",
      "    ln_tprice:q1 + ln_tprice:q3 + ln_oprice:q1 + ln_oprice:q2 + \n",
      "    ln_oprice:q3 + ln_cprice_pred:q1 + ln_cprice_pred:q2 + ln_cprice_pred:q3 + \n",
      "    ln_incom:oprice + ln_tprice:oprice + oprice:cprice_pred + \n",
      "    q1:ln_incom_sq + q2:ln_incom_sq + q3:ln_incom_sq + q1:ln_tprice_sq + \n",
      "    q3:ln_tprice_sq + q1:ln_oprice_sq + q2:ln_oprice_sq + q1:ln_cprice_pred_sq + \n",
      "    q2:ln_cprice_pred_sq + q3:ln_cprice_pred_sq\n",
      "\n",
      "                       Df Sum of Sq     RSS     AIC\n",
      "- q3:ln_cprice_pred_sq  1  0.000476 0.36543 -382.75\n",
      "- ln_incom:oprice       1  0.000866 0.36582 -382.66\n",
      "- ln_cprice_pred:q3     1  0.001007 0.36596 -382.63\n",
      "- ln_incom:q3           1  0.001170 0.36612 -382.59\n",
      "- q3:ln_incom_sq        1  0.001560 0.36651 -382.50\n",
      "- ln_tprice:oprice      1  0.001691 0.36664 -382.47\n",
      "- q2:ln_incom_sq        1  0.002978 0.36793 -382.18\n",
      "- ln_incom:q2           1  0.003217 0.36817 -382.12\n",
      "- q1:ln_tprice_sq       1  0.006091 0.37104 -381.47\n",
      "- ln_tprice:q1          1  0.006344 0.37130 -381.41\n",
      "<none>                              0.36495 -380.86\n",
      "- q2:ln_oprice_sq       1  0.011817 0.37677 -380.18\n",
      "- q1:ln_cprice_pred_sq  1  0.012201 0.37715 -380.10\n",
      "- ln_cprice_pred:q1     1  0.012506 0.37746 -380.03\n",
      "- ln_oprice:q2          1  0.018900 0.38385 -378.62\n",
      "- q1:ln_incom_sq        1  0.022952 0.38790 -377.74\n",
      "- ln_incom:q1           1  0.023245 0.38820 -377.67\n",
      "- ln_tprice:q3          1  0.024874 0.38983 -377.32\n",
      "- q3:ln_tprice_sq       1  0.024923 0.38988 -377.31\n",
      "- q1:ln_oprice_sq       1  0.027626 0.39258 -376.73\n",
      "- ln_oprice:q1          1  0.029151 0.39410 -376.40\n",
      "- ln_oprice:q3          1  0.035562 0.40051 -375.05\n",
      "- q2:ln_cprice_pred_sq  1  0.037165 0.40212 -374.71\n",
      "- ln_cprice_pred:q2     1  0.037548 0.40250 -374.63\n",
      "- oprice:cprice_pred    1  0.044137 0.40909 -373.27\n",
      "\n",
      "Step:  AIC=-382.75\n",
      "ln_qu ~ ln_incom + ln_tprice + ln_oprice + ln_cprice_pred + q1 + \n",
      "    q2 + q3 + ln_incom_sq + ln_tprice_sq + ln_oprice_sq + ln_cprice_pred_sq + \n",
      "    oprice + cprice_pred + ln_incom:q1 + ln_incom:q2 + ln_incom:q3 + \n",
      "    ln_tprice:q1 + ln_tprice:q3 + ln_oprice:q1 + ln_oprice:q2 + \n",
      "    ln_oprice:q3 + ln_cprice_pred:q1 + ln_cprice_pred:q2 + ln_cprice_pred:q3 + \n",
      "    ln_incom:oprice + ln_tprice:oprice + oprice:cprice_pred + \n",
      "    q1:ln_incom_sq + q2:ln_incom_sq + q3:ln_incom_sq + q1:ln_tprice_sq + \n",
      "    q3:ln_tprice_sq + q1:ln_oprice_sq + q2:ln_oprice_sq + q1:ln_cprice_pred_sq + \n",
      "    q2:ln_cprice_pred_sq\n",
      "\n",
      "                       Df Sum of Sq     RSS     AIC\n",
      "- ln_incom:oprice       1  0.000711 0.36614 -384.59\n",
      "- ln_incom:q3           1  0.001045 0.36647 -384.51\n",
      "- q3:ln_incom_sq        1  0.001413 0.36684 -384.43\n",
      "- ln_tprice:oprice      1  0.001869 0.36730 -384.32\n",
      "- q2:ln_incom_sq        1  0.003263 0.36869 -384.00\n",
      "- ln_incom:q2           1  0.003512 0.36894 -383.95\n",
      "- q1:ln_tprice_sq       1  0.006122 0.37155 -383.35\n",
      "- ln_tprice:q1          1  0.006375 0.37180 -383.30\n",
      "<none>                              0.36543 -382.75\n",
      "- q2:ln_oprice_sq       1  0.011830 0.37726 -382.07\n",
      "- q1:ln_cprice_pred_sq  1  0.013690 0.37912 -381.66\n",
      "- ln_cprice_pred:q1     1  0.013993 0.37942 -381.59\n",
      "- ln_oprice:q2          1  0.019126 0.38456 -380.46\n",
      "- q1:ln_incom_sq        1  0.023536 0.38897 -379.51\n",
      "- ln_incom:q1           1  0.023819 0.38925 -379.45\n",
      "- ln_cprice_pred:q3     1  0.025888 0.39132 -379.00\n",
      "- q1:ln_oprice_sq       1  0.027231 0.39266 -378.71\n",
      "- ln_oprice:q1          1  0.028798 0.39423 -378.38\n",
      "- ln_tprice:q3          1  0.032697 0.39813 -377.55\n",
      "- q3:ln_tprice_sq       1  0.032831 0.39826 -377.52\n",
      "- ln_oprice:q3          1  0.035181 0.40061 -377.03\n",
      "- q2:ln_cprice_pred_sq  1  0.037172 0.40260 -376.61\n",
      "- ln_cprice_pred:q2     1  0.037550 0.40298 -376.53\n",
      "- oprice:cprice_pred    1  0.043822 0.40925 -375.24\n",
      "\n",
      "Step:  AIC=-384.59\n",
      "ln_qu ~ ln_incom + ln_tprice + ln_oprice + ln_cprice_pred + q1 + \n",
      "    q2 + q3 + ln_incom_sq + ln_tprice_sq + ln_oprice_sq + ln_cprice_pred_sq + \n",
      "    oprice + cprice_pred + ln_incom:q1 + ln_incom:q2 + ln_incom:q3 + \n",
      "    ln_tprice:q1 + ln_tprice:q3 + ln_oprice:q1 + ln_oprice:q2 + \n",
      "    ln_oprice:q3 + ln_cprice_pred:q1 + ln_cprice_pred:q2 + ln_cprice_pred:q3 + \n",
      "    ln_tprice:oprice + oprice:cprice_pred + q1:ln_incom_sq + \n",
      "    q2:ln_incom_sq + q3:ln_incom_sq + q1:ln_tprice_sq + q3:ln_tprice_sq + \n",
      "    q1:ln_oprice_sq + q2:ln_oprice_sq + q1:ln_cprice_pred_sq + \n",
      "    q2:ln_cprice_pred_sq\n",
      "\n",
      "                       Df Sum of Sq     RSS     AIC\n",
      "- ln_incom:q3           1  0.001367 0.36751 -386.27\n",
      "- q3:ln_incom_sq        1  0.001759 0.36790 -386.18\n",
      "- ln_tprice:oprice      1  0.001998 0.36814 -386.13\n",
      "- q2:ln_incom_sq        1  0.002847 0.36899 -385.94\n",
      "- ln_incom:q2           1  0.003078 0.36922 -385.88\n",
      "- q1:ln_tprice_sq       1  0.006252 0.37239 -385.16\n",
      "- ln_tprice:q1          1  0.006519 0.37266 -385.10\n",
      "<none>                              0.36614 -384.59\n",
      "- q2:ln_oprice_sq       1  0.011480 0.37762 -383.99\n",
      "- q1:ln_cprice_pred_sq  1  0.016409 0.38255 -382.90\n",
      "- ln_cprice_pred:q1     1  0.016865 0.38301 -382.80\n",
      "- ln_oprice:q2          1  0.018490 0.38463 -382.45\n",
      "- q1:ln_incom_sq        1  0.023015 0.38916 -381.47\n",
      "- ln_incom:q1           1  0.023365 0.38951 -381.39\n",
      "- ln_cprice_pred:q3     1  0.025344 0.39148 -380.96\n",
      "- q1:ln_oprice_sq       1  0.026743 0.39288 -380.67\n",
      "- ln_tprice:q3          1  0.032389 0.39853 -379.47\n",
      "- q3:ln_tprice_sq       1  0.032520 0.39866 -379.44\n",
      "- ln_oprice:q1          1  0.033293 0.39943 -379.28\n",
      "- q2:ln_cprice_pred_sq  1  0.036535 0.40267 -378.60\n",
      "- ln_cprice_pred:q2     1  0.036902 0.40304 -378.52\n",
      "- ln_oprice:q3          1  0.040518 0.40666 -377.77\n",
      "- oprice:cprice_pred    1  0.043615 0.40975 -377.13\n",
      "\n",
      "Step:  AIC=-386.27\n",
      "ln_qu ~ ln_incom + ln_tprice + ln_oprice + ln_cprice_pred + q1 + \n",
      "    q2 + q3 + ln_incom_sq + ln_tprice_sq + ln_oprice_sq + ln_cprice_pred_sq + \n",
      "    oprice + cprice_pred + ln_incom:q1 + ln_incom:q2 + ln_tprice:q1 + \n",
      "    ln_tprice:q3 + ln_oprice:q1 + ln_oprice:q2 + ln_oprice:q3 + \n",
      "    ln_cprice_pred:q1 + ln_cprice_pred:q2 + ln_cprice_pred:q3 + \n",
      "    ln_tprice:oprice + oprice:cprice_pred + q1:ln_incom_sq + \n",
      "    q2:ln_incom_sq + q3:ln_incom_sq + q1:ln_tprice_sq + q3:ln_tprice_sq + \n",
      "    q1:ln_oprice_sq + q2:ln_oprice_sq + q1:ln_cprice_pred_sq + \n",
      "    q2:ln_cprice_pred_sq\n",
      "\n",
      "                       Df Sum of Sq     RSS     AIC\n",
      "- ln_tprice:oprice      1  0.002543 0.37005 -387.69\n",
      "- q2:ln_incom_sq        1  0.006858 0.37437 -386.72\n",
      "- q1:ln_tprice_sq       1  0.007148 0.37465 -386.66\n",
      "- ln_incom:q2           1  0.007278 0.37479 -386.63\n",
      "- ln_tprice:q1          1  0.007428 0.37494 -386.59\n",
      "<none>                              0.36751 -386.27\n",
      "- q2:ln_oprice_sq       1  0.013159 0.38067 -385.32\n",
      "- q1:ln_cprice_pred_sq  1  0.017659 0.38517 -384.33\n",
      "- ln_cprice_pred:q1     1  0.018098 0.38561 -384.24\n",
      "- ln_oprice:q2          1  0.022731 0.39024 -383.23\n",
      "- ln_cprice_pred:q3     1  0.025187 0.39269 -382.71\n",
      "- q1:ln_oprice_sq       1  0.026845 0.39435 -382.35\n",
      "- ln_tprice:q3          1  0.031618 0.39913 -381.34\n",
      "- q3:ln_tprice_sq       1  0.031735 0.39924 -381.32\n",
      "- q2:ln_cprice_pred_sq  1  0.035306 0.40281 -380.57\n",
      "- ln_cprice_pred:q2     1  0.035644 0.40315 -380.50\n",
      "- ln_oprice:q1          1  0.036495 0.40400 -380.32\n",
      "- q1:ln_incom_sq        1  0.042036 0.40954 -379.18\n",
      "- ln_incom:q1           1  0.042752 0.41026 -379.03\n",
      "- oprice:cprice_pred    1  0.045083 0.41259 -378.55\n",
      "- ln_oprice:q3          1  0.049916 0.41742 -377.58\n",
      "- q3:ln_incom_sq        1  0.109730 0.47724 -366.33\n",
      "\n",
      "Step:  AIC=-387.69\n",
      "ln_qu ~ ln_incom + ln_tprice + ln_oprice + ln_cprice_pred + q1 + \n",
      "    q2 + q3 + ln_incom_sq + ln_tprice_sq + ln_oprice_sq + ln_cprice_pred_sq + \n",
      "    oprice + cprice_pred + ln_incom:q1 + ln_incom:q2 + ln_tprice:q1 + \n",
      "    ln_tprice:q3 + ln_oprice:q1 + ln_oprice:q2 + ln_oprice:q3 + \n",
      "    ln_cprice_pred:q1 + ln_cprice_pred:q2 + ln_cprice_pred:q3 + \n",
      "    oprice:cprice_pred + q1:ln_incom_sq + q2:ln_incom_sq + q3:ln_incom_sq + \n",
      "    q1:ln_tprice_sq + q3:ln_tprice_sq + q1:ln_oprice_sq + q2:ln_oprice_sq + \n",
      "    q1:ln_cprice_pred_sq + q2:ln_cprice_pred_sq\n",
      "\n",
      "                       Df Sum of Sq     RSS     AIC\n",
      "- q2:ln_incom_sq        1  0.005390 0.37544 -388.48\n",
      "- ln_incom:q2           1  0.005788 0.37584 -388.39\n",
      "- q1:ln_tprice_sq       1  0.006281 0.37633 -388.28\n",
      "- ln_tprice:q1          1  0.006557 0.37661 -388.22\n",
      "<none>                              0.37005 -387.69\n",
      "- q2:ln_oprice_sq       1  0.012796 0.38285 -386.84\n",
      "- ln_cprice_pred:q3     1  0.023121 0.39317 -384.60\n",
      "- q1:ln_cprice_pred_sq  1  0.023753 0.39380 -384.47\n",
      "- ln_oprice:q2          1  0.023820 0.39387 -384.45\n",
      "- ln_cprice_pred:q1     1  0.024246 0.39430 -384.36\n",
      "- q1:ln_oprice_sq       1  0.029779 0.39983 -383.19\n",
      "- ln_tprice:q3          1  0.030644 0.40069 -383.01\n",
      "- q3:ln_tprice_sq       1  0.030805 0.40086 -382.98\n",
      "- q2:ln_cprice_pred_sq  1  0.032786 0.40284 -382.56\n",
      "- ln_cprice_pred:q2     1  0.033124 0.40317 -382.49\n",
      "- ln_oprice:q1          1  0.038389 0.40844 -381.40\n",
      "- q1:ln_incom_sq        1  0.040221 0.41027 -381.03\n",
      "- ln_incom:q1           1  0.040925 0.41098 -380.88\n",
      "- oprice:cprice_pred    1  0.044855 0.41491 -380.08\n",
      "- ln_oprice:q3          1  0.052900 0.42295 -378.47\n",
      "- q3:ln_incom_sq        1  0.113206 0.48326 -367.27\n",
      "\n",
      "Step:  AIC=-388.48\n",
      "ln_qu ~ ln_incom + ln_tprice + ln_oprice + ln_cprice_pred + q1 + \n",
      "    q2 + q3 + ln_incom_sq + ln_tprice_sq + ln_oprice_sq + ln_cprice_pred_sq + \n",
      "    oprice + cprice_pred + ln_incom:q1 + ln_incom:q2 + ln_tprice:q1 + \n",
      "    ln_tprice:q3 + ln_oprice:q1 + ln_oprice:q2 + ln_oprice:q3 + \n",
      "    ln_cprice_pred:q1 + ln_cprice_pred:q2 + ln_cprice_pred:q3 + \n",
      "    oprice:cprice_pred + q1:ln_incom_sq + q3:ln_incom_sq + q1:ln_tprice_sq + \n",
      "    q3:ln_tprice_sq + q1:ln_oprice_sq + q2:ln_oprice_sq + q1:ln_cprice_pred_sq + \n",
      "    q2:ln_cprice_pred_sq\n",
      "\n",
      "                       Df Sum of Sq     RSS     AIC\n",
      "- q1:ln_tprice_sq       1  0.005479 0.38092 -389.26\n",
      "- ln_tprice:q1          1  0.005739 0.38118 -389.21\n",
      "<none>                              0.37544 -388.48\n",
      "- q2:ln_oprice_sq       1  0.009478 0.38492 -388.39\n",
      "- ln_cprice_pred:q3     1  0.021098 0.39654 -385.89\n",
      "- ln_oprice:q2          1  0.023720 0.39916 -385.33\n",
      "- q1:ln_cprice_pred_sq  1  0.024705 0.40014 -385.13\n",
      "- ln_cprice_pred:q1     1  0.025228 0.40067 -385.02\n",
      "- q1:ln_oprice_sq       1  0.025935 0.40138 -384.87\n",
      "- ln_tprice:q3          1  0.028175 0.40361 -384.40\n",
      "- q3:ln_tprice_sq       1  0.028329 0.40377 -384.37\n",
      "- q2:ln_cprice_pred_sq  1  0.029731 0.40517 -384.08\n",
      "- ln_cprice_pred:q2     1  0.030032 0.40547 -384.02\n",
      "- ln_oprice:q1          1  0.033606 0.40905 -383.28\n",
      "- q1:ln_incom_sq        1  0.035337 0.41078 -382.92\n",
      "- ln_incom:q1           1  0.036104 0.41154 -382.77\n",
      "- ln_incom:q2           1  0.045999 0.42144 -380.77\n",
      "- oprice:cprice_pred    1  0.051084 0.42652 -379.76\n",
      "- ln_oprice:q3          1  0.053792 0.42923 -379.23\n",
      "- q3:ln_incom_sq        1  0.109695 0.48513 -368.95\n",
      "\n",
      "Step:  AIC=-389.26\n",
      "ln_qu ~ ln_incom + ln_tprice + ln_oprice + ln_cprice_pred + q1 + \n",
      "    q2 + q3 + ln_incom_sq + ln_tprice_sq + ln_oprice_sq + ln_cprice_pred_sq + \n",
      "    oprice + cprice_pred + ln_incom:q1 + ln_incom:q2 + ln_tprice:q1 + \n",
      "    ln_tprice:q3 + ln_oprice:q1 + ln_oprice:q2 + ln_oprice:q3 + \n",
      "    ln_cprice_pred:q1 + ln_cprice_pred:q2 + ln_cprice_pred:q3 + \n",
      "    oprice:cprice_pred + q1:ln_incom_sq + q3:ln_incom_sq + q3:ln_tprice_sq + \n",
      "    q1:ln_oprice_sq + q2:ln_oprice_sq + q1:ln_cprice_pred_sq + \n",
      "    q2:ln_cprice_pred_sq\n",
      "\n",
      "                       Df Sum of Sq     RSS     AIC\n",
      "<none>                              0.38092 -389.26\n",
      "- q2:ln_oprice_sq       1  0.009630 0.39055 -389.17\n",
      "- ln_cprice_pred:q3     1  0.019012 0.39993 -387.17\n",
      "- q1:ln_cprice_pred_sq  1  0.020548 0.40147 -386.85\n",
      "- ln_cprice_pred:q1     1  0.021108 0.40203 -386.73\n",
      "- ln_oprice:q2          1  0.023499 0.40442 -386.23\n",
      "- ln_tprice:q3          1  0.024276 0.40520 -386.07\n",
      "- q3:ln_tprice_sq       1  0.024426 0.40535 -386.04\n",
      "- q2:ln_cprice_pred_sq  1  0.029368 0.41029 -385.02\n",
      "- ln_cprice_pred:q2     1  0.029701 0.41062 -384.96\n",
      "- q1:ln_incom_sq        1  0.034991 0.41591 -383.88\n",
      "- ln_incom:q1           1  0.035807 0.41673 -383.72\n",
      "- ln_tprice:q1          1  0.044106 0.42502 -382.06\n",
      "- ln_incom:q2           1  0.046433 0.42735 -381.60\n",
      "- oprice:cprice_pred    1  0.049655 0.43057 -380.97\n",
      "- ln_oprice:q3          1  0.056769 0.43769 -379.59\n",
      "- q1:ln_oprice_sq       1  0.058276 0.43919 -379.30\n",
      "- ln_oprice:q1          1  0.069443 0.45036 -377.20\n",
      "- q3:ln_incom_sq        1  0.110659 0.49158 -369.84\n"
     ]
    }
   ],
   "source": [
    "stage2_model_demand_ln_poly_step_inf = step(stage2_model_demand_ln_poly_inf)"
   ]
  },
  {
   "cell_type": "code",
   "execution_count": 30,
   "metadata": {
    "collapsed": false
   },
   "outputs": [
    {
     "data": {
      "text/plain": [
       "\n",
       "Call:\n",
       "lm(formula = ln_qu ~ ln_incom + ln_tprice + ln_oprice + ln_cprice_pred + \n",
       "    q1 + q2 + q3 + ln_incom_sq + ln_tprice_sq + ln_oprice_sq + \n",
       "    ln_cprice_pred_sq + oprice + cprice_pred + ln_incom:q1 + \n",
       "    ln_incom:q2 + ln_tprice:q1 + ln_tprice:q3 + ln_oprice:q1 + \n",
       "    ln_oprice:q2 + ln_oprice:q3 + ln_cprice_pred:q1 + ln_cprice_pred:q2 + \n",
       "    ln_cprice_pred:q3 + oprice:cprice_pred + q1:ln_incom_sq + \n",
       "    q3:ln_incom_sq + q3:ln_tprice_sq + q1:ln_oprice_sq + q2:ln_oprice_sq + \n",
       "    q1:ln_cprice_pred_sq + q2:ln_cprice_pred_sq, data = data)\n",
       "\n",
       "Residuals:\n",
       "     Min       1Q   Median       3Q      Max \n",
       "-0.12047 -0.04477 -0.00914  0.03954  0.18381 \n",
       "\n",
       "Coefficients:\n",
       "                       Estimate Std. Error t value Pr(>|t|)    \n",
       "(Intercept)           1.285e+03  1.041e+03   1.235 0.222394    \n",
       "ln_incom              1.292e+02  4.924e+01   2.624 0.011379 *  \n",
       "ln_tprice            -1.575e+02  1.839e+02  -0.856 0.395814    \n",
       "ln_oprice             1.638e+03  9.265e+02   1.768 0.082922 .  \n",
       "ln_cprice_pred        1.084e+02  6.278e+01   1.726 0.090279 .  \n",
       "q1                    5.549e+02  2.487e+02   2.231 0.030005 *  \n",
       "q2                   -8.297e+00  1.712e+01  -0.485 0.629986    \n",
       "q3                   -1.076e+03  6.009e+02  -1.790 0.079255 .  \n",
       "ln_incom_sq          -8.382e+00  3.238e+00  -2.588 0.012472 *  \n",
       "ln_tprice_sq          2.680e+01  3.103e+01   0.864 0.391659    \n",
       "ln_oprice_sq          8.762e+02  4.958e+02   1.767 0.083038 .  \n",
       "ln_cprice_pred_sq    -3.095e+01  1.841e+01  -1.681 0.098806 .  \n",
       "oprice               -1.673e+03  9.338e+02  -1.791 0.079043 .  \n",
       "cprice_pred           1.275e+00  1.886e+00   0.676 0.502095    \n",
       "ln_incom:q1          -1.456e+02  6.584e+01  -2.211 0.031464 *  \n",
       "ln_incom:q2          -3.372e+00  1.339e+00  -2.518 0.014932 *  \n",
       "ln_tprice:q1          9.433e+00  3.844e+00   2.454 0.017523 *  \n",
       "ln_tprice:q3          7.408e+02  4.069e+02   1.820 0.074448 .  \n",
       "ln_oprice:q1          8.733e+00  2.836e+00   3.079 0.003314 ** \n",
       "ln_oprice:q2          5.556e+00  3.102e+00   1.791 0.079102 .  \n",
       "ln_oprice:q3          6.044e+00  2.171e+00   2.784 0.007473 ** \n",
       "ln_cprice_pred:q1    -1.886e+01  1.111e+01  -1.697 0.095582 .  \n",
       "ln_cprice_pred:q2     2.448e+01  1.216e+01   2.014 0.049242 *  \n",
       "ln_cprice_pred:q3     8.584e-01  5.328e-01   1.611 0.113234    \n",
       "oprice:cprice_pred    2.323e+00  8.922e-01   2.604 0.011997 *  \n",
       "q1:ln_incom_sq        9.514e+00  4.353e+00   2.186 0.033376 *  \n",
       "q3:ln_incom_sq       -2.964e-01  7.626e-02  -3.887 0.000289 ***\n",
       "q3:ln_tprice_sq      -1.259e+02  6.892e+01  -1.826 0.073585 .  \n",
       "q1:ln_oprice_sq      -5.535e+01  1.962e+01  -2.821 0.006772 ** \n",
       "q2:ln_oprice_sq      -1.540e+01  1.343e+01  -1.147 0.256815    \n",
       "q1:ln_cprice_pred_sq  3.332e+00  1.989e+00   1.675 0.099974 .  \n",
       "q2:ln_cprice_pred_sq -4.447e+00  2.221e+00  -2.002 0.050483 .  \n",
       "---\n",
       "Signif. codes:  0 '***' 0.001 '**' 0.01 '*' 0.05 '.' 0.1 ' ' 1\n",
       "\n",
       "Residual standard error: 0.08559 on 52 degrees of freedom\n",
       "Multiple R-squared:  0.632,\tAdjusted R-squared:  0.4125 \n",
       "F-statistic:  2.88 on 31 and 52 DF,  p-value: 0.0003669\n"
      ]
     },
     "metadata": {},
     "output_type": "display_data"
    }
   ],
   "source": [
    "summary(stage2_model_demand_ln_poly_step_inf)"
   ]
  },
  {
   "cell_type": "code",
   "execution_count": 44,
   "metadata": {
    "collapsed": false
   },
   "outputs": [
    {
     "data": {
      "text/plain": [
       "\n",
       "Call:\n",
       "lm(formula = ln_qu ~ ln_incom + ln_oprice + ln_cprice_pred + \n",
       "    q1 + q3 + ln_incom_sq + ln_oprice_sq + ln_cprice_pred_sq + \n",
       "    oprice + ln_incom:q1 + ln_incom:q2 + ln_tprice:q1 + ln_oprice:q1 + \n",
       "    ln_oprice:q2 + ln_oprice:q3 + ln_cprice_pred:q1 + ln_cprice_pred:q2 + \n",
       "    oprice:cprice_pred + q1:ln_incom_sq + q3:ln_incom_sq + q1:ln_oprice_sq + \n",
       "    q1:ln_cprice_pred_sq + q2:ln_cprice_pred_sq, data = data)\n",
       "\n",
       "Residuals:\n",
       "      Min        1Q    Median        3Q       Max \n",
       "-0.215373 -0.044803 -0.005856  0.036298  0.185964 \n",
       "\n",
       "Coefficients:\n",
       "                       Estimate Std. Error t value Pr(>|t|)    \n",
       "(Intercept)           9.420e+02  6.993e+02   1.347 0.183034    \n",
       "ln_incom              1.286e+02  4.619e+01   2.783 0.007182 ** \n",
       "ln_oprice             1.488e+03  7.000e+02   2.126 0.037651 *  \n",
       "ln_cprice_pred        7.281e+01  2.595e+01   2.806 0.006754 ** \n",
       "q1                    5.554e+02  2.390e+02   2.324 0.023533 *  \n",
       "q3                    1.507e+01  3.898e+00   3.865 0.000275 ***\n",
       "ln_incom_sq          -8.340e+00  3.039e+00  -2.745 0.007982 ** \n",
       "ln_oprice_sq          7.962e+02  3.750e+02   2.123 0.037853 *  \n",
       "ln_cprice_pred_sq    -2.000e+01  7.120e+00  -2.809 0.006706 ** \n",
       "oprice               -1.519e+03  7.057e+02  -2.153 0.035336 *  \n",
       "ln_incom:q1          -1.440e+02  6.323e+01  -2.278 0.026301 *  \n",
       "ln_incom:q2          -2.730e+00  1.123e+00  -2.431 0.018058 *  \n",
       "q1:ln_tprice          1.017e+01  3.302e+00   3.079 0.003131 ** \n",
       "ln_oprice:q1          8.133e+00  2.722e+00   2.987 0.004072 ** \n",
       "ln_oprice:q2          2.749e+00  1.716e+00   1.602 0.114355    \n",
       "ln_oprice:q3          6.131e+00  1.872e+00   3.276 0.001753 ** \n",
       "ln_cprice_pred:q1    -2.504e+01  1.021e+01  -2.451 0.017167 *  \n",
       "ln_cprice_pred:q2     1.498e+01  6.201e+00   2.416 0.018749 *  \n",
       "oprice:cprice_pred    2.070e+00  7.470e-01   2.772 0.007418 ** \n",
       "q1:ln_incom_sq        9.415e+00  4.183e+00   2.251 0.028060 *  \n",
       "q3:ln_incom_sq       -2.729e-01  7.052e-02  -3.870 0.000271 ***\n",
       "q1:ln_oprice_sq      -5.059e+01  1.883e+01  -2.687 0.009313 ** \n",
       "q1:ln_cprice_pred_sq  4.446e+00  1.828e+00   2.433 0.017970 *  \n",
       "ln_cprice_pred_sq:q2 -2.737e+00  1.142e+00  -2.397 0.019676 *  \n",
       "---\n",
       "Signif. codes:  0 '***' 0.001 '**' 0.01 '*' 0.05 '.' 0.1 ' ' 1\n",
       "\n",
       "Residual standard error: 0.08443 on 60 degrees of freedom\n",
       "Multiple R-squared:  0.5868,\tAdjusted R-squared:  0.4284 \n",
       "F-statistic: 3.704 on 23 and 60 DF,  p-value: 2.429e-05\n"
      ]
     },
     "metadata": {},
     "output_type": "display_data"
    }
   ],
   "source": [
    "test = lm(formula = ln_qu ~ ln_incom + ln_oprice + ln_cprice_pred + \n",
    "    q1 + q3 + ln_incom_sq + ln_oprice_sq + \n",
    "    ln_cprice_pred_sq + oprice + ln_incom:q1 + \n",
    "    ln_incom:q2 + ln_tprice:q1 + ln_oprice:q1 + \n",
    "    ln_oprice:q2 + ln_oprice:q3 + ln_cprice_pred:q1 + ln_cprice_pred:q2 +\n",
    "    oprice:cprice_pred + q1:ln_incom_sq + \n",
    "    q3:ln_incom_sq+ q1:ln_oprice_sq +\n",
    "    q1:ln_cprice_pred_sq + q2:ln_cprice_pred_sq, data = data)\n",
    "summary(test)"
   ]
  },
  {
   "cell_type": "markdown",
   "metadata": {},
   "source": [
    "### Starting to model for inflation: using a new set of inflation-based variables\n",
    "\n",
    "To do inflation, we will be using an inflation factor to deflate our price indexes, before using them to train quantity."
   ]
  },
  {
   "cell_type": "code",
   "execution_count": null,
   "metadata": {
    "collapsed": true
   },
   "outputs": [],
   "source": []
  },
  {
   "cell_type": "markdown",
   "metadata": {},
   "source": [
    "### Running the Durbin-Wu-Hausman test: IVs should be independent of residuals of stage 2 model"
   ]
  },
  {
   "cell_type": "code",
   "execution_count": 45,
   "metadata": {
    "collapsed": false
   },
   "outputs": [],
   "source": [
    "data$residuals_stage2 = residuals(test)\n",
    "hausman = lm(residuals_stage2~bprice+wprice, data=data)  "
   ]
  },
  {
   "cell_type": "code",
   "execution_count": 46,
   "metadata": {
    "collapsed": false
   },
   "outputs": [
    {
     "data": {
      "text/plain": [
       "\n",
       "Call:\n",
       "lm(formula = residuals_stage2 ~ bprice + wprice, data = data)\n",
       "\n",
       "Residuals:\n",
       "      Min        1Q    Median        3Q       Max \n",
       "-0.215167 -0.045420 -0.005625  0.034633  0.185292 \n",
       "\n",
       "Coefficients:\n",
       "              Estimate Std. Error t value Pr(>|t|)\n",
       "(Intercept) -0.0247335  0.1474479  -0.168    0.867\n",
       "bprice      -0.0009078  0.0075264  -0.121    0.904\n",
       "wprice       0.0008931  0.0050466   0.177    0.860\n",
       "\n",
       "Residual standard error: 0.07265 on 81 degrees of freedom\n",
       "Multiple R-squared:  0.0004015,\tAdjusted R-squared:  -0.02428 \n",
       "F-statistic: 0.01627 on 2 and 81 DF,  p-value: 0.9839\n"
      ]
     },
     "metadata": {},
     "output_type": "display_data"
    }
   ],
   "source": [
    "summary(hausman)"
   ]
  },
  {
   "cell_type": "code",
   "execution_count": null,
   "metadata": {
    "collapsed": true
   },
   "outputs": [],
   "source": []
  }
 ],
 "metadata": {
  "anaconda-cloud": {},
  "kernelspec": {
   "display_name": "R",
   "language": "R",
   "name": "ir"
  },
  "language_info": {
   "codemirror_mode": "r",
   "file_extension": ".r",
   "mimetype": "text/x-r-source",
   "name": "R",
   "pygments_lexer": "r",
   "version": "3.3.1"
  }
 },
 "nbformat": 4,
 "nbformat_minor": 1
}
